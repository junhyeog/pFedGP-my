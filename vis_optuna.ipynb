{
 "cells": [
  {
   "cell_type": "code",
   "execution_count": 1,
   "metadata": {},
   "outputs": [
    {
     "name": "stderr",
     "output_type": "stream",
     "text": [
      "/gallery_moma/junhyeog.yun/anaconda3/envs/gp-my/lib/python3.9/site-packages/scipy/__init__.py:146: UserWarning: A NumPy version >=1.17.3 and <1.25.0 is required for this version of SciPy (detected version 1.25.2\n",
      "  warnings.warn(f\"A NumPy version >={np_minversion} and <{np_maxversion}\"\n",
      "/tmp/ipykernel_254595/712628210.py:13: FutureWarning: Passing a negative integer is deprecated in version 1.0 and will not be supported in future version. Instead, use None to not limit the column width.\n",
      "  pd.set_option(\"display.max_colwidth\", -1)  # or 199\n"
     ]
    }
   ],
   "source": [
    "import optuna\n",
    "import os\n",
    "\n",
    "import pandas as pd\n",
    "from IPython.display import display\n",
    "\n",
    "pd.options.display.max_rows = 999\n",
    "pd.options.display.max_columns = 999\n",
    "pd.options.display.max_columns = None\n",
    "pd.set_option(\"display.max_columns\", None)\n",
    "pd.set_option(\"display.max_columns\", None)  # or 1000\n",
    "pd.set_option(\"display.max_rows\", None)  # or 1000\n",
    "pd.set_option(\"display.max_colwidth\", -1)  # or 199\n",
    "\n",
    "from IPython.core.interactiveshell import InteractiveShell\n",
    "\n",
    "InteractiveShell.ast_node_interactivity = \"all\"\n",
    "\n",
    "from warnings import simplefilter\n",
    "\n",
    "simplefilter(action=\"ignore\", category=DeprecationWarning)"
   ]
  },
  {
   "cell_type": "code",
   "execution_count": 4,
   "metadata": {},
   "outputs": [
    {
     "name": "stdout",
     "output_type": "stream",
     "text": [
      "[+] pre: copy_tune_2\n",
      "[+] Study: env_bmfl_seed_777_d_cifar10_alpha_0.1_gdt_2\n"
     ]
    },
    {
     "name": "stderr",
     "output_type": "stream",
     "text": [
      "/gallery_moma/junhyeog.yun/anaconda3/envs/gp-my/lib/python3.9/site-packages/optuna/visualization/_pareto_front.py:227: ExperimentalWarning:\n",
      "\n",
      "``constraints_func`` argument is an experimental feature. The interface can change in the future.\n",
      "\n"
     ]
    },
    {
     "data": {
      "application/vnd.plotly.v1+json": {
       "config": {
        "plotlyServerURL": "https://plot.ly"
       },
       "data": [
        {
         "hovertemplate": "%{text}<extra>Infeasible Trial</extra>",
         "marker": {
          "color": "#cccccc"
         },
         "mode": "markers",
         "showlegend": false,
         "text": [
          "{<br>  \"number\": 0,<br>  \"values\": [<br>    0.3344477304873344,<br>    0.35852451641925326<br>  ],<br>  \"params\": {<br>    \"inner_steps\": 5,<br>    \"lr\": 0.04216189802628754,<br>    \"wd\": 0.0009<br>  }<br>}",
          "{<br>  \"number\": 1,<br>  \"values\": [<br>    0.31078822167931075,<br>    0.32073774179037334<br>  ],<br>  \"params\": {<br>    \"inner_steps\": 3,<br>    \"lr\": 0.13030430903110687,<br>    \"wd\": 0.0008<br>  }<br>}",
          "{<br>  \"number\": 3,<br>  \"values\": [<br>    0.31528867172431524,<br>    0.3189383715699505<br>  ],<br>  \"params\": {<br>    \"inner_steps\": 3,<br>    \"lr\": 0.622108400655501,<br>    \"wd\": 0.0006000000000000001<br>  }<br>}",
          "{<br>  \"number\": 4,<br>  \"values\": [<br>    0.14941494149414938,<br>    0.11201079622132255<br>  ],<br>  \"params\": {<br>    \"inner_steps\": 3,<br>    \"lr\": 9.93326966056812,<br>    \"wd\": 0.0005<br>  }<br>}",
          "{<br>  \"number\": 6,<br>  \"values\": [<br>    0.3573357335733573,<br>    0.40170940170940167<br>  ],<br>  \"params\": {<br>    \"inner_steps\": 5,<br>    \"lr\": 0.2473378361517337,<br>    \"wd\": 0.0008<br>  }<br>}",
          "{<br>  \"number\": 7,<br>  \"values\": [<br>    0.31606017744631604,<br>    0.3508771929824562<br>  ],<br>  \"params\": {<br>    \"inner_steps\": 3,<br>    \"lr\": 0.093001805295605,<br>    \"wd\": 0.0006000000000000001<br>  }<br>}",
          "{<br>  \"number\": 8,<br>  \"values\": [<br>    0.2062491963482062,<br>    0.29419703103913636<br>  ],<br>  \"params\": {<br>    \"inner_steps\": 1,<br>    \"lr\": 2.9756022324700826,<br>    \"wd\": 0.001<br>  }<br>}",
          "{<br>  \"number\": 12,<br>  \"values\": [<br>    0.2367236723672367,<br>    0.33063427800269907<br>  ],<br>  \"params\": {<br>    \"inner_steps\": 5,<br>    \"lr\": 0.9828530387985248,<br>    \"wd\": 0.0008<br>  }<br>}",
          "{<br>  \"number\": 15,<br>  \"values\": [<br>    0.20470618490420467,<br>    0.24246513720197932<br>  ],<br>  \"params\": {<br>    \"inner_steps\": 1,<br>    \"lr\": 3.115310660582363,<br>    \"wd\": 0.0007<br>  }<br>}",
          "{<br>  \"number\": 16,<br>  \"values\": [<br>    0.32737559470232735,<br>    0.34457939721097613<br>  ],<br>  \"params\": {<br>    \"inner_steps\": 1,<br>    \"lr\": 0.7147892600423966,<br>    \"wd\": 0.0007<br>  }<br>}",
          "{<br>  \"number\": 18,<br>  \"values\": [<br>    0.2931721743602931,<br>    0.30679262258209633<br>  ],<br>  \"params\": {<br>    \"inner_steps\": 1,<br>    \"lr\": 0.10904506213474267,<br>    \"wd\": 0.0008<br>  }<br>}",
          "{<br>  \"number\": 20,<br>  \"values\": [<br>    0.32287514465732287,<br>    0.32928475033738197<br>  ],<br>  \"params\": {<br>    \"inner_steps\": 3,<br>    \"lr\": 0.01328947832965473,<br>    \"wd\": 0.0007<br>  }<br>}",
          "{<br>  \"number\": 21,<br>  \"values\": [<br>    0.3443487205863443,<br>    0.32118758434547906<br>  ],<br>  \"params\": {<br>    \"inner_steps\": 5,<br>    \"lr\": 0.013642901735233776,<br>    \"wd\": 0.0009<br>  }<br>}",
          "{<br>  \"number\": 22,<br>  \"values\": [<br>    0.3323903818953324,<br>    0.33828160143949615<br>  ],<br>  \"params\": {<br>    \"inner_steps\": 5,<br>    \"lr\": 0.012116522850005581,<br>    \"wd\": 0.0009<br>  }<br>}",
          "{<br>  \"number\": 23,<br>  \"values\": [<br>    0.33457631477433447,<br>    0.343229869545659<br>  ],<br>  \"params\": {<br>    \"inner_steps\": 5,<br>    \"lr\": 0.014999955847169467,<br>    \"wd\": 0.0009<br>  }<br>}",
          "{<br>  \"number\": 25,<br>  \"values\": [<br>    0.33676224765333673,<br>    0.3909131803868646<br>  ],<br>  \"params\": {<br>    \"inner_steps\": 5,<br>    \"lr\": 0.012340175002880751,<br>    \"wd\": 0.001<br>  }<br>}",
          "{<br>  \"number\": 27,<br>  \"values\": [<br>    0.315031503150315,<br>    0.3630229419703104<br>  ],<br>  \"params\": {<br>    \"inner_steps\": 5,<br>    \"lr\": 0.01798700052305706,<br>    \"wd\": 0.001<br>  }<br>}",
          "{<br>  \"number\": 28,<br>  \"values\": [<br>    0.3231323132313231,<br>    0.32748538011695905<br>  ],<br>  \"params\": {<br>    \"inner_steps\": 5,<br>    \"lr\": 0.013206364302679347,<br>    \"wd\": 0.001<br>  }<br>}",
          "{<br>  \"number\": 30,<br>  \"values\": [<br>    0.34460588916034457,<br>    0.3846153846153846<br>  ],<br>  \"params\": {<br>    \"inner_steps\": 5,<br>    \"lr\": 0.03117834906701461,<br>    \"wd\": 0.001<br>  }<br>}",
          "{<br>  \"number\": 31,<br>  \"values\": [<br>    0.22772277227722768,<br>    0.20647773279352227<br>  ],<br>  \"params\": {<br>    \"inner_steps\": 5,<br>    \"lr\": 0.22832706619675305,<br>    \"wd\": 0.001<br>  }<br>}",
          "{<br>  \"number\": 35,<br>  \"values\": [<br>    0.29780120869229776,<br>    0.3499775078722447<br>  ],<br>  \"params\": {<br>    \"inner_steps\": 3,<br>    \"lr\": 0.17775420610979534,<br>    \"wd\": 0.0005<br>  }<br>}"
         ],
         "type": "scatter",
         "x": [
          0.3344477304873344,
          0.31078822167931075,
          0.31528867172431524,
          0.14941494149414938,
          0.3573357335733573,
          0.31606017744631604,
          0.2062491963482062,
          0.2367236723672367,
          0.20470618490420467,
          0.32737559470232735,
          0.2931721743602931,
          0.32287514465732287,
          0.3443487205863443,
          0.3323903818953324,
          0.33457631477433447,
          0.33676224765333673,
          0.315031503150315,
          0.3231323132313231,
          0.34460588916034457,
          0.22772277227722768,
          0.29780120869229776
         ],
         "y": [
          0.35852451641925326,
          0.32073774179037334,
          0.3189383715699505,
          0.11201079622132255,
          0.40170940170940167,
          0.3508771929824562,
          0.29419703103913636,
          0.33063427800269907,
          0.24246513720197932,
          0.34457939721097613,
          0.30679262258209633,
          0.32928475033738197,
          0.32118758434547906,
          0.33828160143949615,
          0.343229869545659,
          0.3909131803868646,
          0.3630229419703104,
          0.32748538011695905,
          0.3846153846153846,
          0.20647773279352227,
          0.3499775078722447
         ]
        },
        {
         "hovertemplate": "%{text}<extra>Feasible Trial</extra>",
         "marker": {
          "color": [
           9,
           10,
           13,
           14,
           17,
           19,
           24
          ],
          "colorbar": {
           "title": {
            "text": "Trial"
           }
          },
          "colorscale": [
           [
            0,
            "rgb(247,251,255)"
           ],
           [
            0.125,
            "rgb(222,235,247)"
           ],
           [
            0.25,
            "rgb(198,219,239)"
           ],
           [
            0.375,
            "rgb(158,202,225)"
           ],
           [
            0.5,
            "rgb(107,174,214)"
           ],
           [
            0.625,
            "rgb(66,146,198)"
           ],
           [
            0.75,
            "rgb(33,113,181)"
           ],
           [
            0.875,
            "rgb(8,81,156)"
           ],
           [
            1,
            "rgb(8,48,107)"
           ]
          ],
          "line": {
           "color": "Grey",
           "width": 0.5
          }
         },
         "mode": "markers",
         "showlegend": false,
         "text": [
          "{<br>  \"number\": 9,<br>  \"values\": [<br>    0.2859714542882859,<br>    0.31668915879442194<br>  ],<br>  \"params\": {<br>    \"inner_steps\": 1,<br>    \"lr\": 0.356519170892095,<br>    \"num_gibbs_draws_train\": 50,<br>    \"wd\": 0.0006000000000000001<br>  }<br>}",
          "{<br>  \"number\": 10,<br>  \"values\": [<br>    0.3010158158673009,<br>    0.37112010796221323<br>  ],<br>  \"params\": {<br>    \"inner_steps\": 1,<br>    \"lr\": 0.35615164809624794,<br>    \"num_gibbs_draws_test\": 50,<br>    \"num_gibbs_draws_train\": 50,<br>    \"wd\": 0.0006000000000000001<br>  }<br>}",
          "{<br>  \"number\": 13,<br>  \"values\": [<br>    0.29535810723929523,<br>    0.324336482231219<br>  ],<br>  \"params\": {<br>    \"inner_steps\": 1,<br>    \"lr\": 0.1374406658604363,<br>    \"num_gibbs_draws_test\": 50,<br>    \"num_gibbs_draws_train\": 50,<br>    \"wd\": 0.0007<br>  }<br>}",
          "{<br>  \"number\": 14,<br>  \"values\": [<br>    0.24148129098624144,<br>    0.3022941970310391<br>  ],<br>  \"params\": {<br>    \"inner_steps\": 1,<br>    \"lr\": 1.2736654774534928,<br>    \"num_gibbs_draws_train\": 50,<br>    \"wd\": 0.0007<br>  }<br>}",
          "{<br>  \"number\": 17,<br>  \"values\": [<br>    0.31528867172431524,<br>    0.340080971659919<br>  ],<br>  \"params\": {<br>    \"inner_steps\": 5,<br>    \"lr\": 0.012412767400224513,<br>    \"num_gibbs_draws_test\": 50,<br>    \"num_gibbs_draws_train\": 50,<br>    \"wd\": 0.0008<br>  }<br>}",
          "{<br>  \"number\": 19,<br>  \"values\": [<br>    0.279027902790279,<br>    0.35447593342330175<br>  ],<br>  \"params\": {<br>    \"inner_steps\": 1,<br>    \"lr\": 0.03052408665831351,<br>    \"num_gibbs_draws_train\": 50,<br>    \"wd\": 0.0008<br>  }<br>}",
          "{<br>  \"number\": 24,<br>  \"values\": [<br>    0.30525909733830525,<br>    0.3616734143049933<br>  ],<br>  \"params\": {<br>    \"inner_steps\": 5,<br>    \"lr\": 0.011393002127258973,<br>    \"num_gibbs_draws_test\": 50,<br>    \"num_gibbs_draws_train\": 50,<br>    \"wd\": 0.0009<br>  }<br>}"
         ],
         "type": "scatter",
         "x": [
          0.2859714542882859,
          0.3010158158673009,
          0.29535810723929523,
          0.24148129098624144,
          0.31528867172431524,
          0.279027902790279,
          0.30525909733830525
         ],
         "y": [
          0.31668915879442194,
          0.37112010796221323,
          0.324336482231219,
          0.3022941970310391,
          0.340080971659919,
          0.35447593342330175,
          0.3616734143049933
         ]
        },
        {
         "hovertemplate": "%{text}<extra>Best Trial</extra>",
         "marker": {
          "color": [
           11,
           26,
           29
          ],
          "colorbar": {
           "title": {
            "text": "Best Trial"
           },
           "x": 1.1,
           "xpad": 40
          },
          "colorscale": [
           [
            0,
            "rgb(255,245,240)"
           ],
           [
            0.125,
            "rgb(254,224,210)"
           ],
           [
            0.25,
            "rgb(252,187,161)"
           ],
           [
            0.375,
            "rgb(252,146,114)"
           ],
           [
            0.5,
            "rgb(251,106,74)"
           ],
           [
            0.625,
            "rgb(239,59,44)"
           ],
           [
            0.75,
            "rgb(203,24,29)"
           ],
           [
            0.875,
            "rgb(165,15,21)"
           ],
           [
            1,
            "rgb(103,0,13)"
           ]
          ],
          "line": {
           "color": "Grey",
           "width": 0.5
          }
         },
         "mode": "markers",
         "showlegend": false,
         "text": [
          "{<br>  \"number\": 11,<br>  \"values\": [<br>    0.3471775749003472,<br>    0.3310841205578048<br>  ],<br>  \"params\": {<br>    \"inner_steps\": 3,<br>    \"lr\": 0.0596224126380929,<br>    \"num_gibbs_draws_test\": 50,<br>    \"num_gibbs_draws_train\": 50,<br>    \"wd\": 0.0007<br>  }<br>}",
          "{<br>  \"number\": 26,<br>  \"values\": [<br>    0.2956152758132955,<br>    0.3990103463787674<br>  ],<br>  \"params\": {<br>    \"inner_steps\": 5,<br>    \"lr\": 0.010807983151209228,<br>    \"num_gibbs_draws_train\": 50,<br>    \"wd\": 0.001<br>  }<br>}",
          "{<br>  \"number\": 29,<br>  \"values\": [<br>    0.3254468303973254,<br>    0.3769680611785875<br>  ],<br>  \"params\": {<br>    \"inner_steps\": 5,<br>    \"lr\": 0.033384685320640664,<br>    \"num_gibbs_draws_test\": 50,<br>    \"num_gibbs_draws_train\": 50,<br>    \"wd\": 0.001<br>  }<br>}"
         ],
         "type": "scatter",
         "x": [
          0.3471775749003472,
          0.2956152758132955,
          0.3254468303973254
         ],
         "y": [
          0.3310841205578048,
          0.3990103463787674,
          0.3769680611785875
         ]
        }
       ],
       "layout": {
        "template": {
         "data": {
          "bar": [
           {
            "error_x": {
             "color": "#2a3f5f"
            },
            "error_y": {
             "color": "#2a3f5f"
            },
            "marker": {
             "line": {
              "color": "#E5ECF6",
              "width": 0.5
             },
             "pattern": {
              "fillmode": "overlay",
              "size": 10,
              "solidity": 0.2
             }
            },
            "type": "bar"
           }
          ],
          "barpolar": [
           {
            "marker": {
             "line": {
              "color": "#E5ECF6",
              "width": 0.5
             },
             "pattern": {
              "fillmode": "overlay",
              "size": 10,
              "solidity": 0.2
             }
            },
            "type": "barpolar"
           }
          ],
          "carpet": [
           {
            "aaxis": {
             "endlinecolor": "#2a3f5f",
             "gridcolor": "white",
             "linecolor": "white",
             "minorgridcolor": "white",
             "startlinecolor": "#2a3f5f"
            },
            "baxis": {
             "endlinecolor": "#2a3f5f",
             "gridcolor": "white",
             "linecolor": "white",
             "minorgridcolor": "white",
             "startlinecolor": "#2a3f5f"
            },
            "type": "carpet"
           }
          ],
          "choropleth": [
           {
            "colorbar": {
             "outlinewidth": 0,
             "ticks": ""
            },
            "type": "choropleth"
           }
          ],
          "contour": [
           {
            "colorbar": {
             "outlinewidth": 0,
             "ticks": ""
            },
            "colorscale": [
             [
              0,
              "#0d0887"
             ],
             [
              0.1111111111111111,
              "#46039f"
             ],
             [
              0.2222222222222222,
              "#7201a8"
             ],
             [
              0.3333333333333333,
              "#9c179e"
             ],
             [
              0.4444444444444444,
              "#bd3786"
             ],
             [
              0.5555555555555556,
              "#d8576b"
             ],
             [
              0.6666666666666666,
              "#ed7953"
             ],
             [
              0.7777777777777778,
              "#fb9f3a"
             ],
             [
              0.8888888888888888,
              "#fdca26"
             ],
             [
              1,
              "#f0f921"
             ]
            ],
            "type": "contour"
           }
          ],
          "contourcarpet": [
           {
            "colorbar": {
             "outlinewidth": 0,
             "ticks": ""
            },
            "type": "contourcarpet"
           }
          ],
          "heatmap": [
           {
            "colorbar": {
             "outlinewidth": 0,
             "ticks": ""
            },
            "colorscale": [
             [
              0,
              "#0d0887"
             ],
             [
              0.1111111111111111,
              "#46039f"
             ],
             [
              0.2222222222222222,
              "#7201a8"
             ],
             [
              0.3333333333333333,
              "#9c179e"
             ],
             [
              0.4444444444444444,
              "#bd3786"
             ],
             [
              0.5555555555555556,
              "#d8576b"
             ],
             [
              0.6666666666666666,
              "#ed7953"
             ],
             [
              0.7777777777777778,
              "#fb9f3a"
             ],
             [
              0.8888888888888888,
              "#fdca26"
             ],
             [
              1,
              "#f0f921"
             ]
            ],
            "type": "heatmap"
           }
          ],
          "heatmapgl": [
           {
            "colorbar": {
             "outlinewidth": 0,
             "ticks": ""
            },
            "colorscale": [
             [
              0,
              "#0d0887"
             ],
             [
              0.1111111111111111,
              "#46039f"
             ],
             [
              0.2222222222222222,
              "#7201a8"
             ],
             [
              0.3333333333333333,
              "#9c179e"
             ],
             [
              0.4444444444444444,
              "#bd3786"
             ],
             [
              0.5555555555555556,
              "#d8576b"
             ],
             [
              0.6666666666666666,
              "#ed7953"
             ],
             [
              0.7777777777777778,
              "#fb9f3a"
             ],
             [
              0.8888888888888888,
              "#fdca26"
             ],
             [
              1,
              "#f0f921"
             ]
            ],
            "type": "heatmapgl"
           }
          ],
          "histogram": [
           {
            "marker": {
             "pattern": {
              "fillmode": "overlay",
              "size": 10,
              "solidity": 0.2
             }
            },
            "type": "histogram"
           }
          ],
          "histogram2d": [
           {
            "colorbar": {
             "outlinewidth": 0,
             "ticks": ""
            },
            "colorscale": [
             [
              0,
              "#0d0887"
             ],
             [
              0.1111111111111111,
              "#46039f"
             ],
             [
              0.2222222222222222,
              "#7201a8"
             ],
             [
              0.3333333333333333,
              "#9c179e"
             ],
             [
              0.4444444444444444,
              "#bd3786"
             ],
             [
              0.5555555555555556,
              "#d8576b"
             ],
             [
              0.6666666666666666,
              "#ed7953"
             ],
             [
              0.7777777777777778,
              "#fb9f3a"
             ],
             [
              0.8888888888888888,
              "#fdca26"
             ],
             [
              1,
              "#f0f921"
             ]
            ],
            "type": "histogram2d"
           }
          ],
          "histogram2dcontour": [
           {
            "colorbar": {
             "outlinewidth": 0,
             "ticks": ""
            },
            "colorscale": [
             [
              0,
              "#0d0887"
             ],
             [
              0.1111111111111111,
              "#46039f"
             ],
             [
              0.2222222222222222,
              "#7201a8"
             ],
             [
              0.3333333333333333,
              "#9c179e"
             ],
             [
              0.4444444444444444,
              "#bd3786"
             ],
             [
              0.5555555555555556,
              "#d8576b"
             ],
             [
              0.6666666666666666,
              "#ed7953"
             ],
             [
              0.7777777777777778,
              "#fb9f3a"
             ],
             [
              0.8888888888888888,
              "#fdca26"
             ],
             [
              1,
              "#f0f921"
             ]
            ],
            "type": "histogram2dcontour"
           }
          ],
          "mesh3d": [
           {
            "colorbar": {
             "outlinewidth": 0,
             "ticks": ""
            },
            "type": "mesh3d"
           }
          ],
          "parcoords": [
           {
            "line": {
             "colorbar": {
              "outlinewidth": 0,
              "ticks": ""
             }
            },
            "type": "parcoords"
           }
          ],
          "pie": [
           {
            "automargin": true,
            "type": "pie"
           }
          ],
          "scatter": [
           {
            "fillpattern": {
             "fillmode": "overlay",
             "size": 10,
             "solidity": 0.2
            },
            "type": "scatter"
           }
          ],
          "scatter3d": [
           {
            "line": {
             "colorbar": {
              "outlinewidth": 0,
              "ticks": ""
             }
            },
            "marker": {
             "colorbar": {
              "outlinewidth": 0,
              "ticks": ""
             }
            },
            "type": "scatter3d"
           }
          ],
          "scattercarpet": [
           {
            "marker": {
             "colorbar": {
              "outlinewidth": 0,
              "ticks": ""
             }
            },
            "type": "scattercarpet"
           }
          ],
          "scattergeo": [
           {
            "marker": {
             "colorbar": {
              "outlinewidth": 0,
              "ticks": ""
             }
            },
            "type": "scattergeo"
           }
          ],
          "scattergl": [
           {
            "marker": {
             "colorbar": {
              "outlinewidth": 0,
              "ticks": ""
             }
            },
            "type": "scattergl"
           }
          ],
          "scattermapbox": [
           {
            "marker": {
             "colorbar": {
              "outlinewidth": 0,
              "ticks": ""
             }
            },
            "type": "scattermapbox"
           }
          ],
          "scatterpolar": [
           {
            "marker": {
             "colorbar": {
              "outlinewidth": 0,
              "ticks": ""
             }
            },
            "type": "scatterpolar"
           }
          ],
          "scatterpolargl": [
           {
            "marker": {
             "colorbar": {
              "outlinewidth": 0,
              "ticks": ""
             }
            },
            "type": "scatterpolargl"
           }
          ],
          "scatterternary": [
           {
            "marker": {
             "colorbar": {
              "outlinewidth": 0,
              "ticks": ""
             }
            },
            "type": "scatterternary"
           }
          ],
          "surface": [
           {
            "colorbar": {
             "outlinewidth": 0,
             "ticks": ""
            },
            "colorscale": [
             [
              0,
              "#0d0887"
             ],
             [
              0.1111111111111111,
              "#46039f"
             ],
             [
              0.2222222222222222,
              "#7201a8"
             ],
             [
              0.3333333333333333,
              "#9c179e"
             ],
             [
              0.4444444444444444,
              "#bd3786"
             ],
             [
              0.5555555555555556,
              "#d8576b"
             ],
             [
              0.6666666666666666,
              "#ed7953"
             ],
             [
              0.7777777777777778,
              "#fb9f3a"
             ],
             [
              0.8888888888888888,
              "#fdca26"
             ],
             [
              1,
              "#f0f921"
             ]
            ],
            "type": "surface"
           }
          ],
          "table": [
           {
            "cells": {
             "fill": {
              "color": "#EBF0F8"
             },
             "line": {
              "color": "white"
             }
            },
            "header": {
             "fill": {
              "color": "#C8D4E3"
             },
             "line": {
              "color": "white"
             }
            },
            "type": "table"
           }
          ]
         },
         "layout": {
          "annotationdefaults": {
           "arrowcolor": "#2a3f5f",
           "arrowhead": 0,
           "arrowwidth": 1
          },
          "autotypenumbers": "strict",
          "coloraxis": {
           "colorbar": {
            "outlinewidth": 0,
            "ticks": ""
           }
          },
          "colorscale": {
           "diverging": [
            [
             0,
             "#8e0152"
            ],
            [
             0.1,
             "#c51b7d"
            ],
            [
             0.2,
             "#de77ae"
            ],
            [
             0.3,
             "#f1b6da"
            ],
            [
             0.4,
             "#fde0ef"
            ],
            [
             0.5,
             "#f7f7f7"
            ],
            [
             0.6,
             "#e6f5d0"
            ],
            [
             0.7,
             "#b8e186"
            ],
            [
             0.8,
             "#7fbc41"
            ],
            [
             0.9,
             "#4d9221"
            ],
            [
             1,
             "#276419"
            ]
           ],
           "sequential": [
            [
             0,
             "#0d0887"
            ],
            [
             0.1111111111111111,
             "#46039f"
            ],
            [
             0.2222222222222222,
             "#7201a8"
            ],
            [
             0.3333333333333333,
             "#9c179e"
            ],
            [
             0.4444444444444444,
             "#bd3786"
            ],
            [
             0.5555555555555556,
             "#d8576b"
            ],
            [
             0.6666666666666666,
             "#ed7953"
            ],
            [
             0.7777777777777778,
             "#fb9f3a"
            ],
            [
             0.8888888888888888,
             "#fdca26"
            ],
            [
             1,
             "#f0f921"
            ]
           ],
           "sequentialminus": [
            [
             0,
             "#0d0887"
            ],
            [
             0.1111111111111111,
             "#46039f"
            ],
            [
             0.2222222222222222,
             "#7201a8"
            ],
            [
             0.3333333333333333,
             "#9c179e"
            ],
            [
             0.4444444444444444,
             "#bd3786"
            ],
            [
             0.5555555555555556,
             "#d8576b"
            ],
            [
             0.6666666666666666,
             "#ed7953"
            ],
            [
             0.7777777777777778,
             "#fb9f3a"
            ],
            [
             0.8888888888888888,
             "#fdca26"
            ],
            [
             1,
             "#f0f921"
            ]
           ]
          },
          "colorway": [
           "#636efa",
           "#EF553B",
           "#00cc96",
           "#ab63fa",
           "#FFA15A",
           "#19d3f3",
           "#FF6692",
           "#B6E880",
           "#FF97FF",
           "#FECB52"
          ],
          "font": {
           "color": "#2a3f5f"
          },
          "geo": {
           "bgcolor": "white",
           "lakecolor": "white",
           "landcolor": "#E5ECF6",
           "showlakes": true,
           "showland": true,
           "subunitcolor": "white"
          },
          "hoverlabel": {
           "align": "left"
          },
          "hovermode": "closest",
          "mapbox": {
           "style": "light"
          },
          "paper_bgcolor": "white",
          "plot_bgcolor": "#E5ECF6",
          "polar": {
           "angularaxis": {
            "gridcolor": "white",
            "linecolor": "white",
            "ticks": ""
           },
           "bgcolor": "#E5ECF6",
           "radialaxis": {
            "gridcolor": "white",
            "linecolor": "white",
            "ticks": ""
           }
          },
          "scene": {
           "xaxis": {
            "backgroundcolor": "#E5ECF6",
            "gridcolor": "white",
            "gridwidth": 2,
            "linecolor": "white",
            "showbackground": true,
            "ticks": "",
            "zerolinecolor": "white"
           },
           "yaxis": {
            "backgroundcolor": "#E5ECF6",
            "gridcolor": "white",
            "gridwidth": 2,
            "linecolor": "white",
            "showbackground": true,
            "ticks": "",
            "zerolinecolor": "white"
           },
           "zaxis": {
            "backgroundcolor": "#E5ECF6",
            "gridcolor": "white",
            "gridwidth": 2,
            "linecolor": "white",
            "showbackground": true,
            "ticks": "",
            "zerolinecolor": "white"
           }
          },
          "shapedefaults": {
           "line": {
            "color": "#2a3f5f"
           }
          },
          "ternary": {
           "aaxis": {
            "gridcolor": "white",
            "linecolor": "white",
            "ticks": ""
           },
           "baxis": {
            "gridcolor": "white",
            "linecolor": "white",
            "ticks": ""
           },
           "bgcolor": "#E5ECF6",
           "caxis": {
            "gridcolor": "white",
            "linecolor": "white",
            "ticks": ""
           }
          },
          "title": {
           "x": 0.05
          },
          "xaxis": {
           "automargin": true,
           "gridcolor": "white",
           "linecolor": "white",
           "ticks": "",
           "title": {
            "standoff": 15
           },
           "zerolinecolor": "white",
           "zerolinewidth": 2
          },
          "yaxis": {
           "automargin": true,
           "gridcolor": "white",
           "linecolor": "white",
           "ticks": "",
           "title": {
            "standoff": 15
           },
           "zerolinecolor": "white",
           "zerolinewidth": 2
          }
         }
        },
        "title": {
         "text": "Pareto-front Plot"
        },
        "xaxis": {
         "title": {
          "text": "best_test_acc"
         }
        },
        "yaxis": {
         "title": {
          "text": "best_ood_acc"
         }
        }
       }
      },
      "text/html": [
       "<div>                            <div id=\"2ef8caa3-f1e8-47fe-b23e-9cdeeac3f27e\" class=\"plotly-graph-div\" style=\"height:525px; width:100%;\"></div>            <script type=\"text/javascript\">                require([\"plotly\"], function(Plotly) {                    window.PLOTLYENV=window.PLOTLYENV || {};                                    if (document.getElementById(\"2ef8caa3-f1e8-47fe-b23e-9cdeeac3f27e\")) {                    Plotly.newPlot(                        \"2ef8caa3-f1e8-47fe-b23e-9cdeeac3f27e\",                        [{\"hovertemplate\":\"%{text}\\u003cextra\\u003eInfeasible Trial\\u003c\\u002fextra\\u003e\",\"marker\":{\"color\":\"#cccccc\"},\"mode\":\"markers\",\"showlegend\":false,\"text\":[\"{\\u003cbr\\u003e  \\\"number\\\": 0,\\u003cbr\\u003e  \\\"values\\\": [\\u003cbr\\u003e    0.3344477304873344,\\u003cbr\\u003e    0.35852451641925326\\u003cbr\\u003e  ],\\u003cbr\\u003e  \\\"params\\\": {\\u003cbr\\u003e    \\\"inner_steps\\\": 5,\\u003cbr\\u003e    \\\"lr\\\": 0.04216189802628754,\\u003cbr\\u003e    \\\"wd\\\": 0.0009\\u003cbr\\u003e  }\\u003cbr\\u003e}\",\"{\\u003cbr\\u003e  \\\"number\\\": 1,\\u003cbr\\u003e  \\\"values\\\": [\\u003cbr\\u003e    0.31078822167931075,\\u003cbr\\u003e    0.32073774179037334\\u003cbr\\u003e  ],\\u003cbr\\u003e  \\\"params\\\": {\\u003cbr\\u003e    \\\"inner_steps\\\": 3,\\u003cbr\\u003e    \\\"lr\\\": 0.13030430903110687,\\u003cbr\\u003e    \\\"wd\\\": 0.0008\\u003cbr\\u003e  }\\u003cbr\\u003e}\",\"{\\u003cbr\\u003e  \\\"number\\\": 3,\\u003cbr\\u003e  \\\"values\\\": [\\u003cbr\\u003e    0.31528867172431524,\\u003cbr\\u003e    0.3189383715699505\\u003cbr\\u003e  ],\\u003cbr\\u003e  \\\"params\\\": {\\u003cbr\\u003e    \\\"inner_steps\\\": 3,\\u003cbr\\u003e    \\\"lr\\\": 0.622108400655501,\\u003cbr\\u003e    \\\"wd\\\": 0.0006000000000000001\\u003cbr\\u003e  }\\u003cbr\\u003e}\",\"{\\u003cbr\\u003e  \\\"number\\\": 4,\\u003cbr\\u003e  \\\"values\\\": [\\u003cbr\\u003e    0.14941494149414938,\\u003cbr\\u003e    0.11201079622132255\\u003cbr\\u003e  ],\\u003cbr\\u003e  \\\"params\\\": {\\u003cbr\\u003e    \\\"inner_steps\\\": 3,\\u003cbr\\u003e    \\\"lr\\\": 9.93326966056812,\\u003cbr\\u003e    \\\"wd\\\": 0.0005\\u003cbr\\u003e  }\\u003cbr\\u003e}\",\"{\\u003cbr\\u003e  \\\"number\\\": 6,\\u003cbr\\u003e  \\\"values\\\": [\\u003cbr\\u003e    0.3573357335733573,\\u003cbr\\u003e    0.40170940170940167\\u003cbr\\u003e  ],\\u003cbr\\u003e  \\\"params\\\": {\\u003cbr\\u003e    \\\"inner_steps\\\": 5,\\u003cbr\\u003e    \\\"lr\\\": 0.2473378361517337,\\u003cbr\\u003e    \\\"wd\\\": 0.0008\\u003cbr\\u003e  }\\u003cbr\\u003e}\",\"{\\u003cbr\\u003e  \\\"number\\\": 7,\\u003cbr\\u003e  \\\"values\\\": [\\u003cbr\\u003e    0.31606017744631604,\\u003cbr\\u003e    0.3508771929824562\\u003cbr\\u003e  ],\\u003cbr\\u003e  \\\"params\\\": {\\u003cbr\\u003e    \\\"inner_steps\\\": 3,\\u003cbr\\u003e    \\\"lr\\\": 0.093001805295605,\\u003cbr\\u003e    \\\"wd\\\": 0.0006000000000000001\\u003cbr\\u003e  }\\u003cbr\\u003e}\",\"{\\u003cbr\\u003e  \\\"number\\\": 8,\\u003cbr\\u003e  \\\"values\\\": [\\u003cbr\\u003e    0.2062491963482062,\\u003cbr\\u003e    0.29419703103913636\\u003cbr\\u003e  ],\\u003cbr\\u003e  \\\"params\\\": {\\u003cbr\\u003e    \\\"inner_steps\\\": 1,\\u003cbr\\u003e    \\\"lr\\\": 2.9756022324700826,\\u003cbr\\u003e    \\\"wd\\\": 0.001\\u003cbr\\u003e  }\\u003cbr\\u003e}\",\"{\\u003cbr\\u003e  \\\"number\\\": 12,\\u003cbr\\u003e  \\\"values\\\": [\\u003cbr\\u003e    0.2367236723672367,\\u003cbr\\u003e    0.33063427800269907\\u003cbr\\u003e  ],\\u003cbr\\u003e  \\\"params\\\": {\\u003cbr\\u003e    \\\"inner_steps\\\": 5,\\u003cbr\\u003e    \\\"lr\\\": 0.9828530387985248,\\u003cbr\\u003e    \\\"wd\\\": 0.0008\\u003cbr\\u003e  }\\u003cbr\\u003e}\",\"{\\u003cbr\\u003e  \\\"number\\\": 15,\\u003cbr\\u003e  \\\"values\\\": [\\u003cbr\\u003e    0.20470618490420467,\\u003cbr\\u003e    0.24246513720197932\\u003cbr\\u003e  ],\\u003cbr\\u003e  \\\"params\\\": {\\u003cbr\\u003e    \\\"inner_steps\\\": 1,\\u003cbr\\u003e    \\\"lr\\\": 3.115310660582363,\\u003cbr\\u003e    \\\"wd\\\": 0.0007\\u003cbr\\u003e  }\\u003cbr\\u003e}\",\"{\\u003cbr\\u003e  \\\"number\\\": 16,\\u003cbr\\u003e  \\\"values\\\": [\\u003cbr\\u003e    0.32737559470232735,\\u003cbr\\u003e    0.34457939721097613\\u003cbr\\u003e  ],\\u003cbr\\u003e  \\\"params\\\": {\\u003cbr\\u003e    \\\"inner_steps\\\": 1,\\u003cbr\\u003e    \\\"lr\\\": 0.7147892600423966,\\u003cbr\\u003e    \\\"wd\\\": 0.0007\\u003cbr\\u003e  }\\u003cbr\\u003e}\",\"{\\u003cbr\\u003e  \\\"number\\\": 18,\\u003cbr\\u003e  \\\"values\\\": [\\u003cbr\\u003e    0.2931721743602931,\\u003cbr\\u003e    0.30679262258209633\\u003cbr\\u003e  ],\\u003cbr\\u003e  \\\"params\\\": {\\u003cbr\\u003e    \\\"inner_steps\\\": 1,\\u003cbr\\u003e    \\\"lr\\\": 0.10904506213474267,\\u003cbr\\u003e    \\\"wd\\\": 0.0008\\u003cbr\\u003e  }\\u003cbr\\u003e}\",\"{\\u003cbr\\u003e  \\\"number\\\": 20,\\u003cbr\\u003e  \\\"values\\\": [\\u003cbr\\u003e    0.32287514465732287,\\u003cbr\\u003e    0.32928475033738197\\u003cbr\\u003e  ],\\u003cbr\\u003e  \\\"params\\\": {\\u003cbr\\u003e    \\\"inner_steps\\\": 3,\\u003cbr\\u003e    \\\"lr\\\": 0.01328947832965473,\\u003cbr\\u003e    \\\"wd\\\": 0.0007\\u003cbr\\u003e  }\\u003cbr\\u003e}\",\"{\\u003cbr\\u003e  \\\"number\\\": 21,\\u003cbr\\u003e  \\\"values\\\": [\\u003cbr\\u003e    0.3443487205863443,\\u003cbr\\u003e    0.32118758434547906\\u003cbr\\u003e  ],\\u003cbr\\u003e  \\\"params\\\": {\\u003cbr\\u003e    \\\"inner_steps\\\": 5,\\u003cbr\\u003e    \\\"lr\\\": 0.013642901735233776,\\u003cbr\\u003e    \\\"wd\\\": 0.0009\\u003cbr\\u003e  }\\u003cbr\\u003e}\",\"{\\u003cbr\\u003e  \\\"number\\\": 22,\\u003cbr\\u003e  \\\"values\\\": [\\u003cbr\\u003e    0.3323903818953324,\\u003cbr\\u003e    0.33828160143949615\\u003cbr\\u003e  ],\\u003cbr\\u003e  \\\"params\\\": {\\u003cbr\\u003e    \\\"inner_steps\\\": 5,\\u003cbr\\u003e    \\\"lr\\\": 0.012116522850005581,\\u003cbr\\u003e    \\\"wd\\\": 0.0009\\u003cbr\\u003e  }\\u003cbr\\u003e}\",\"{\\u003cbr\\u003e  \\\"number\\\": 23,\\u003cbr\\u003e  \\\"values\\\": [\\u003cbr\\u003e    0.33457631477433447,\\u003cbr\\u003e    0.343229869545659\\u003cbr\\u003e  ],\\u003cbr\\u003e  \\\"params\\\": {\\u003cbr\\u003e    \\\"inner_steps\\\": 5,\\u003cbr\\u003e    \\\"lr\\\": 0.014999955847169467,\\u003cbr\\u003e    \\\"wd\\\": 0.0009\\u003cbr\\u003e  }\\u003cbr\\u003e}\",\"{\\u003cbr\\u003e  \\\"number\\\": 25,\\u003cbr\\u003e  \\\"values\\\": [\\u003cbr\\u003e    0.33676224765333673,\\u003cbr\\u003e    0.3909131803868646\\u003cbr\\u003e  ],\\u003cbr\\u003e  \\\"params\\\": {\\u003cbr\\u003e    \\\"inner_steps\\\": 5,\\u003cbr\\u003e    \\\"lr\\\": 0.012340175002880751,\\u003cbr\\u003e    \\\"wd\\\": 0.001\\u003cbr\\u003e  }\\u003cbr\\u003e}\",\"{\\u003cbr\\u003e  \\\"number\\\": 27,\\u003cbr\\u003e  \\\"values\\\": [\\u003cbr\\u003e    0.315031503150315,\\u003cbr\\u003e    0.3630229419703104\\u003cbr\\u003e  ],\\u003cbr\\u003e  \\\"params\\\": {\\u003cbr\\u003e    \\\"inner_steps\\\": 5,\\u003cbr\\u003e    \\\"lr\\\": 0.01798700052305706,\\u003cbr\\u003e    \\\"wd\\\": 0.001\\u003cbr\\u003e  }\\u003cbr\\u003e}\",\"{\\u003cbr\\u003e  \\\"number\\\": 28,\\u003cbr\\u003e  \\\"values\\\": [\\u003cbr\\u003e    0.3231323132313231,\\u003cbr\\u003e    0.32748538011695905\\u003cbr\\u003e  ],\\u003cbr\\u003e  \\\"params\\\": {\\u003cbr\\u003e    \\\"inner_steps\\\": 5,\\u003cbr\\u003e    \\\"lr\\\": 0.013206364302679347,\\u003cbr\\u003e    \\\"wd\\\": 0.001\\u003cbr\\u003e  }\\u003cbr\\u003e}\",\"{\\u003cbr\\u003e  \\\"number\\\": 30,\\u003cbr\\u003e  \\\"values\\\": [\\u003cbr\\u003e    0.34460588916034457,\\u003cbr\\u003e    0.3846153846153846\\u003cbr\\u003e  ],\\u003cbr\\u003e  \\\"params\\\": {\\u003cbr\\u003e    \\\"inner_steps\\\": 5,\\u003cbr\\u003e    \\\"lr\\\": 0.03117834906701461,\\u003cbr\\u003e    \\\"wd\\\": 0.001\\u003cbr\\u003e  }\\u003cbr\\u003e}\",\"{\\u003cbr\\u003e  \\\"number\\\": 31,\\u003cbr\\u003e  \\\"values\\\": [\\u003cbr\\u003e    0.22772277227722768,\\u003cbr\\u003e    0.20647773279352227\\u003cbr\\u003e  ],\\u003cbr\\u003e  \\\"params\\\": {\\u003cbr\\u003e    \\\"inner_steps\\\": 5,\\u003cbr\\u003e    \\\"lr\\\": 0.22832706619675305,\\u003cbr\\u003e    \\\"wd\\\": 0.001\\u003cbr\\u003e  }\\u003cbr\\u003e}\",\"{\\u003cbr\\u003e  \\\"number\\\": 35,\\u003cbr\\u003e  \\\"values\\\": [\\u003cbr\\u003e    0.29780120869229776,\\u003cbr\\u003e    0.3499775078722447\\u003cbr\\u003e  ],\\u003cbr\\u003e  \\\"params\\\": {\\u003cbr\\u003e    \\\"inner_steps\\\": 3,\\u003cbr\\u003e    \\\"lr\\\": 0.17775420610979534,\\u003cbr\\u003e    \\\"wd\\\": 0.0005\\u003cbr\\u003e  }\\u003cbr\\u003e}\"],\"x\":[0.3344477304873344,0.31078822167931075,0.31528867172431524,0.14941494149414938,0.3573357335733573,0.31606017744631604,0.2062491963482062,0.2367236723672367,0.20470618490420467,0.32737559470232735,0.2931721743602931,0.32287514465732287,0.3443487205863443,0.3323903818953324,0.33457631477433447,0.33676224765333673,0.315031503150315,0.3231323132313231,0.34460588916034457,0.22772277227722768,0.29780120869229776],\"y\":[0.35852451641925326,0.32073774179037334,0.3189383715699505,0.11201079622132255,0.40170940170940167,0.3508771929824562,0.29419703103913636,0.33063427800269907,0.24246513720197932,0.34457939721097613,0.30679262258209633,0.32928475033738197,0.32118758434547906,0.33828160143949615,0.343229869545659,0.3909131803868646,0.3630229419703104,0.32748538011695905,0.3846153846153846,0.20647773279352227,0.3499775078722447],\"type\":\"scatter\"},{\"hovertemplate\":\"%{text}\\u003cextra\\u003eFeasible Trial\\u003c\\u002fextra\\u003e\",\"marker\":{\"color\":[9,10,13,14,17,19,24],\"colorbar\":{\"title\":{\"text\":\"Trial\"}},\"colorscale\":[[0.0,\"rgb(247,251,255)\"],[0.125,\"rgb(222,235,247)\"],[0.25,\"rgb(198,219,239)\"],[0.375,\"rgb(158,202,225)\"],[0.5,\"rgb(107,174,214)\"],[0.625,\"rgb(66,146,198)\"],[0.75,\"rgb(33,113,181)\"],[0.875,\"rgb(8,81,156)\"],[1.0,\"rgb(8,48,107)\"]],\"line\":{\"color\":\"Grey\",\"width\":0.5}},\"mode\":\"markers\",\"showlegend\":false,\"text\":[\"{\\u003cbr\\u003e  \\\"number\\\": 9,\\u003cbr\\u003e  \\\"values\\\": [\\u003cbr\\u003e    0.2859714542882859,\\u003cbr\\u003e    0.31668915879442194\\u003cbr\\u003e  ],\\u003cbr\\u003e  \\\"params\\\": {\\u003cbr\\u003e    \\\"inner_steps\\\": 1,\\u003cbr\\u003e    \\\"lr\\\": 0.356519170892095,\\u003cbr\\u003e    \\\"num_gibbs_draws_train\\\": 50,\\u003cbr\\u003e    \\\"wd\\\": 0.0006000000000000001\\u003cbr\\u003e  }\\u003cbr\\u003e}\",\"{\\u003cbr\\u003e  \\\"number\\\": 10,\\u003cbr\\u003e  \\\"values\\\": [\\u003cbr\\u003e    0.3010158158673009,\\u003cbr\\u003e    0.37112010796221323\\u003cbr\\u003e  ],\\u003cbr\\u003e  \\\"params\\\": {\\u003cbr\\u003e    \\\"inner_steps\\\": 1,\\u003cbr\\u003e    \\\"lr\\\": 0.35615164809624794,\\u003cbr\\u003e    \\\"num_gibbs_draws_test\\\": 50,\\u003cbr\\u003e    \\\"num_gibbs_draws_train\\\": 50,\\u003cbr\\u003e    \\\"wd\\\": 0.0006000000000000001\\u003cbr\\u003e  }\\u003cbr\\u003e}\",\"{\\u003cbr\\u003e  \\\"number\\\": 13,\\u003cbr\\u003e  \\\"values\\\": [\\u003cbr\\u003e    0.29535810723929523,\\u003cbr\\u003e    0.324336482231219\\u003cbr\\u003e  ],\\u003cbr\\u003e  \\\"params\\\": {\\u003cbr\\u003e    \\\"inner_steps\\\": 1,\\u003cbr\\u003e    \\\"lr\\\": 0.1374406658604363,\\u003cbr\\u003e    \\\"num_gibbs_draws_test\\\": 50,\\u003cbr\\u003e    \\\"num_gibbs_draws_train\\\": 50,\\u003cbr\\u003e    \\\"wd\\\": 0.0007\\u003cbr\\u003e  }\\u003cbr\\u003e}\",\"{\\u003cbr\\u003e  \\\"number\\\": 14,\\u003cbr\\u003e  \\\"values\\\": [\\u003cbr\\u003e    0.24148129098624144,\\u003cbr\\u003e    0.3022941970310391\\u003cbr\\u003e  ],\\u003cbr\\u003e  \\\"params\\\": {\\u003cbr\\u003e    \\\"inner_steps\\\": 1,\\u003cbr\\u003e    \\\"lr\\\": 1.2736654774534928,\\u003cbr\\u003e    \\\"num_gibbs_draws_train\\\": 50,\\u003cbr\\u003e    \\\"wd\\\": 0.0007\\u003cbr\\u003e  }\\u003cbr\\u003e}\",\"{\\u003cbr\\u003e  \\\"number\\\": 17,\\u003cbr\\u003e  \\\"values\\\": [\\u003cbr\\u003e    0.31528867172431524,\\u003cbr\\u003e    0.340080971659919\\u003cbr\\u003e  ],\\u003cbr\\u003e  \\\"params\\\": {\\u003cbr\\u003e    \\\"inner_steps\\\": 5,\\u003cbr\\u003e    \\\"lr\\\": 0.012412767400224513,\\u003cbr\\u003e    \\\"num_gibbs_draws_test\\\": 50,\\u003cbr\\u003e    \\\"num_gibbs_draws_train\\\": 50,\\u003cbr\\u003e    \\\"wd\\\": 0.0008\\u003cbr\\u003e  }\\u003cbr\\u003e}\",\"{\\u003cbr\\u003e  \\\"number\\\": 19,\\u003cbr\\u003e  \\\"values\\\": [\\u003cbr\\u003e    0.279027902790279,\\u003cbr\\u003e    0.35447593342330175\\u003cbr\\u003e  ],\\u003cbr\\u003e  \\\"params\\\": {\\u003cbr\\u003e    \\\"inner_steps\\\": 1,\\u003cbr\\u003e    \\\"lr\\\": 0.03052408665831351,\\u003cbr\\u003e    \\\"num_gibbs_draws_train\\\": 50,\\u003cbr\\u003e    \\\"wd\\\": 0.0008\\u003cbr\\u003e  }\\u003cbr\\u003e}\",\"{\\u003cbr\\u003e  \\\"number\\\": 24,\\u003cbr\\u003e  \\\"values\\\": [\\u003cbr\\u003e    0.30525909733830525,\\u003cbr\\u003e    0.3616734143049933\\u003cbr\\u003e  ],\\u003cbr\\u003e  \\\"params\\\": {\\u003cbr\\u003e    \\\"inner_steps\\\": 5,\\u003cbr\\u003e    \\\"lr\\\": 0.011393002127258973,\\u003cbr\\u003e    \\\"num_gibbs_draws_test\\\": 50,\\u003cbr\\u003e    \\\"num_gibbs_draws_train\\\": 50,\\u003cbr\\u003e    \\\"wd\\\": 0.0009\\u003cbr\\u003e  }\\u003cbr\\u003e}\"],\"x\":[0.2859714542882859,0.3010158158673009,0.29535810723929523,0.24148129098624144,0.31528867172431524,0.279027902790279,0.30525909733830525],\"y\":[0.31668915879442194,0.37112010796221323,0.324336482231219,0.3022941970310391,0.340080971659919,0.35447593342330175,0.3616734143049933],\"type\":\"scatter\"},{\"hovertemplate\":\"%{text}\\u003cextra\\u003eBest Trial\\u003c\\u002fextra\\u003e\",\"marker\":{\"color\":[11,26,29],\"colorbar\":{\"title\":{\"text\":\"Best Trial\"},\"x\":1.1,\"xpad\":40},\"colorscale\":[[0.0,\"rgb(255,245,240)\"],[0.125,\"rgb(254,224,210)\"],[0.25,\"rgb(252,187,161)\"],[0.375,\"rgb(252,146,114)\"],[0.5,\"rgb(251,106,74)\"],[0.625,\"rgb(239,59,44)\"],[0.75,\"rgb(203,24,29)\"],[0.875,\"rgb(165,15,21)\"],[1.0,\"rgb(103,0,13)\"]],\"line\":{\"color\":\"Grey\",\"width\":0.5}},\"mode\":\"markers\",\"showlegend\":false,\"text\":[\"{\\u003cbr\\u003e  \\\"number\\\": 11,\\u003cbr\\u003e  \\\"values\\\": [\\u003cbr\\u003e    0.3471775749003472,\\u003cbr\\u003e    0.3310841205578048\\u003cbr\\u003e  ],\\u003cbr\\u003e  \\\"params\\\": {\\u003cbr\\u003e    \\\"inner_steps\\\": 3,\\u003cbr\\u003e    \\\"lr\\\": 0.0596224126380929,\\u003cbr\\u003e    \\\"num_gibbs_draws_test\\\": 50,\\u003cbr\\u003e    \\\"num_gibbs_draws_train\\\": 50,\\u003cbr\\u003e    \\\"wd\\\": 0.0007\\u003cbr\\u003e  }\\u003cbr\\u003e}\",\"{\\u003cbr\\u003e  \\\"number\\\": 26,\\u003cbr\\u003e  \\\"values\\\": [\\u003cbr\\u003e    0.2956152758132955,\\u003cbr\\u003e    0.3990103463787674\\u003cbr\\u003e  ],\\u003cbr\\u003e  \\\"params\\\": {\\u003cbr\\u003e    \\\"inner_steps\\\": 5,\\u003cbr\\u003e    \\\"lr\\\": 0.010807983151209228,\\u003cbr\\u003e    \\\"num_gibbs_draws_train\\\": 50,\\u003cbr\\u003e    \\\"wd\\\": 0.001\\u003cbr\\u003e  }\\u003cbr\\u003e}\",\"{\\u003cbr\\u003e  \\\"number\\\": 29,\\u003cbr\\u003e  \\\"values\\\": [\\u003cbr\\u003e    0.3254468303973254,\\u003cbr\\u003e    0.3769680611785875\\u003cbr\\u003e  ],\\u003cbr\\u003e  \\\"params\\\": {\\u003cbr\\u003e    \\\"inner_steps\\\": 5,\\u003cbr\\u003e    \\\"lr\\\": 0.033384685320640664,\\u003cbr\\u003e    \\\"num_gibbs_draws_test\\\": 50,\\u003cbr\\u003e    \\\"num_gibbs_draws_train\\\": 50,\\u003cbr\\u003e    \\\"wd\\\": 0.001\\u003cbr\\u003e  }\\u003cbr\\u003e}\"],\"x\":[0.3471775749003472,0.2956152758132955,0.3254468303973254],\"y\":[0.3310841205578048,0.3990103463787674,0.3769680611785875],\"type\":\"scatter\"}],                        {\"title\":{\"text\":\"Pareto-front Plot\"},\"xaxis\":{\"title\":{\"text\":\"best_test_acc\"}},\"yaxis\":{\"title\":{\"text\":\"best_ood_acc\"}},\"template\":{\"data\":{\"histogram2dcontour\":[{\"type\":\"histogram2dcontour\",\"colorbar\":{\"outlinewidth\":0,\"ticks\":\"\"},\"colorscale\":[[0.0,\"#0d0887\"],[0.1111111111111111,\"#46039f\"],[0.2222222222222222,\"#7201a8\"],[0.3333333333333333,\"#9c179e\"],[0.4444444444444444,\"#bd3786\"],[0.5555555555555556,\"#d8576b\"],[0.6666666666666666,\"#ed7953\"],[0.7777777777777778,\"#fb9f3a\"],[0.8888888888888888,\"#fdca26\"],[1.0,\"#f0f921\"]]}],\"choropleth\":[{\"type\":\"choropleth\",\"colorbar\":{\"outlinewidth\":0,\"ticks\":\"\"}}],\"histogram2d\":[{\"type\":\"histogram2d\",\"colorbar\":{\"outlinewidth\":0,\"ticks\":\"\"},\"colorscale\":[[0.0,\"#0d0887\"],[0.1111111111111111,\"#46039f\"],[0.2222222222222222,\"#7201a8\"],[0.3333333333333333,\"#9c179e\"],[0.4444444444444444,\"#bd3786\"],[0.5555555555555556,\"#d8576b\"],[0.6666666666666666,\"#ed7953\"],[0.7777777777777778,\"#fb9f3a\"],[0.8888888888888888,\"#fdca26\"],[1.0,\"#f0f921\"]]}],\"heatmap\":[{\"type\":\"heatmap\",\"colorbar\":{\"outlinewidth\":0,\"ticks\":\"\"},\"colorscale\":[[0.0,\"#0d0887\"],[0.1111111111111111,\"#46039f\"],[0.2222222222222222,\"#7201a8\"],[0.3333333333333333,\"#9c179e\"],[0.4444444444444444,\"#bd3786\"],[0.5555555555555556,\"#d8576b\"],[0.6666666666666666,\"#ed7953\"],[0.7777777777777778,\"#fb9f3a\"],[0.8888888888888888,\"#fdca26\"],[1.0,\"#f0f921\"]]}],\"heatmapgl\":[{\"type\":\"heatmapgl\",\"colorbar\":{\"outlinewidth\":0,\"ticks\":\"\"},\"colorscale\":[[0.0,\"#0d0887\"],[0.1111111111111111,\"#46039f\"],[0.2222222222222222,\"#7201a8\"],[0.3333333333333333,\"#9c179e\"],[0.4444444444444444,\"#bd3786\"],[0.5555555555555556,\"#d8576b\"],[0.6666666666666666,\"#ed7953\"],[0.7777777777777778,\"#fb9f3a\"],[0.8888888888888888,\"#fdca26\"],[1.0,\"#f0f921\"]]}],\"contourcarpet\":[{\"type\":\"contourcarpet\",\"colorbar\":{\"outlinewidth\":0,\"ticks\":\"\"}}],\"contour\":[{\"type\":\"contour\",\"colorbar\":{\"outlinewidth\":0,\"ticks\":\"\"},\"colorscale\":[[0.0,\"#0d0887\"],[0.1111111111111111,\"#46039f\"],[0.2222222222222222,\"#7201a8\"],[0.3333333333333333,\"#9c179e\"],[0.4444444444444444,\"#bd3786\"],[0.5555555555555556,\"#d8576b\"],[0.6666666666666666,\"#ed7953\"],[0.7777777777777778,\"#fb9f3a\"],[0.8888888888888888,\"#fdca26\"],[1.0,\"#f0f921\"]]}],\"surface\":[{\"type\":\"surface\",\"colorbar\":{\"outlinewidth\":0,\"ticks\":\"\"},\"colorscale\":[[0.0,\"#0d0887\"],[0.1111111111111111,\"#46039f\"],[0.2222222222222222,\"#7201a8\"],[0.3333333333333333,\"#9c179e\"],[0.4444444444444444,\"#bd3786\"],[0.5555555555555556,\"#d8576b\"],[0.6666666666666666,\"#ed7953\"],[0.7777777777777778,\"#fb9f3a\"],[0.8888888888888888,\"#fdca26\"],[1.0,\"#f0f921\"]]}],\"mesh3d\":[{\"type\":\"mesh3d\",\"colorbar\":{\"outlinewidth\":0,\"ticks\":\"\"}}],\"scatter\":[{\"fillpattern\":{\"fillmode\":\"overlay\",\"size\":10,\"solidity\":0.2},\"type\":\"scatter\"}],\"parcoords\":[{\"type\":\"parcoords\",\"line\":{\"colorbar\":{\"outlinewidth\":0,\"ticks\":\"\"}}}],\"scatterpolargl\":[{\"type\":\"scatterpolargl\",\"marker\":{\"colorbar\":{\"outlinewidth\":0,\"ticks\":\"\"}}}],\"bar\":[{\"error_x\":{\"color\":\"#2a3f5f\"},\"error_y\":{\"color\":\"#2a3f5f\"},\"marker\":{\"line\":{\"color\":\"#E5ECF6\",\"width\":0.5},\"pattern\":{\"fillmode\":\"overlay\",\"size\":10,\"solidity\":0.2}},\"type\":\"bar\"}],\"scattergeo\":[{\"type\":\"scattergeo\",\"marker\":{\"colorbar\":{\"outlinewidth\":0,\"ticks\":\"\"}}}],\"scatterpolar\":[{\"type\":\"scatterpolar\",\"marker\":{\"colorbar\":{\"outlinewidth\":0,\"ticks\":\"\"}}}],\"histogram\":[{\"marker\":{\"pattern\":{\"fillmode\":\"overlay\",\"size\":10,\"solidity\":0.2}},\"type\":\"histogram\"}],\"scattergl\":[{\"type\":\"scattergl\",\"marker\":{\"colorbar\":{\"outlinewidth\":0,\"ticks\":\"\"}}}],\"scatter3d\":[{\"type\":\"scatter3d\",\"line\":{\"colorbar\":{\"outlinewidth\":0,\"ticks\":\"\"}},\"marker\":{\"colorbar\":{\"outlinewidth\":0,\"ticks\":\"\"}}}],\"scattermapbox\":[{\"type\":\"scattermapbox\",\"marker\":{\"colorbar\":{\"outlinewidth\":0,\"ticks\":\"\"}}}],\"scatterternary\":[{\"type\":\"scatterternary\",\"marker\":{\"colorbar\":{\"outlinewidth\":0,\"ticks\":\"\"}}}],\"scattercarpet\":[{\"type\":\"scattercarpet\",\"marker\":{\"colorbar\":{\"outlinewidth\":0,\"ticks\":\"\"}}}],\"carpet\":[{\"aaxis\":{\"endlinecolor\":\"#2a3f5f\",\"gridcolor\":\"white\",\"linecolor\":\"white\",\"minorgridcolor\":\"white\",\"startlinecolor\":\"#2a3f5f\"},\"baxis\":{\"endlinecolor\":\"#2a3f5f\",\"gridcolor\":\"white\",\"linecolor\":\"white\",\"minorgridcolor\":\"white\",\"startlinecolor\":\"#2a3f5f\"},\"type\":\"carpet\"}],\"table\":[{\"cells\":{\"fill\":{\"color\":\"#EBF0F8\"},\"line\":{\"color\":\"white\"}},\"header\":{\"fill\":{\"color\":\"#C8D4E3\"},\"line\":{\"color\":\"white\"}},\"type\":\"table\"}],\"barpolar\":[{\"marker\":{\"line\":{\"color\":\"#E5ECF6\",\"width\":0.5},\"pattern\":{\"fillmode\":\"overlay\",\"size\":10,\"solidity\":0.2}},\"type\":\"barpolar\"}],\"pie\":[{\"automargin\":true,\"type\":\"pie\"}]},\"layout\":{\"autotypenumbers\":\"strict\",\"colorway\":[\"#636efa\",\"#EF553B\",\"#00cc96\",\"#ab63fa\",\"#FFA15A\",\"#19d3f3\",\"#FF6692\",\"#B6E880\",\"#FF97FF\",\"#FECB52\"],\"font\":{\"color\":\"#2a3f5f\"},\"hovermode\":\"closest\",\"hoverlabel\":{\"align\":\"left\"},\"paper_bgcolor\":\"white\",\"plot_bgcolor\":\"#E5ECF6\",\"polar\":{\"bgcolor\":\"#E5ECF6\",\"angularaxis\":{\"gridcolor\":\"white\",\"linecolor\":\"white\",\"ticks\":\"\"},\"radialaxis\":{\"gridcolor\":\"white\",\"linecolor\":\"white\",\"ticks\":\"\"}},\"ternary\":{\"bgcolor\":\"#E5ECF6\",\"aaxis\":{\"gridcolor\":\"white\",\"linecolor\":\"white\",\"ticks\":\"\"},\"baxis\":{\"gridcolor\":\"white\",\"linecolor\":\"white\",\"ticks\":\"\"},\"caxis\":{\"gridcolor\":\"white\",\"linecolor\":\"white\",\"ticks\":\"\"}},\"coloraxis\":{\"colorbar\":{\"outlinewidth\":0,\"ticks\":\"\"}},\"colorscale\":{\"sequential\":[[0.0,\"#0d0887\"],[0.1111111111111111,\"#46039f\"],[0.2222222222222222,\"#7201a8\"],[0.3333333333333333,\"#9c179e\"],[0.4444444444444444,\"#bd3786\"],[0.5555555555555556,\"#d8576b\"],[0.6666666666666666,\"#ed7953\"],[0.7777777777777778,\"#fb9f3a\"],[0.8888888888888888,\"#fdca26\"],[1.0,\"#f0f921\"]],\"sequentialminus\":[[0.0,\"#0d0887\"],[0.1111111111111111,\"#46039f\"],[0.2222222222222222,\"#7201a8\"],[0.3333333333333333,\"#9c179e\"],[0.4444444444444444,\"#bd3786\"],[0.5555555555555556,\"#d8576b\"],[0.6666666666666666,\"#ed7953\"],[0.7777777777777778,\"#fb9f3a\"],[0.8888888888888888,\"#fdca26\"],[1.0,\"#f0f921\"]],\"diverging\":[[0,\"#8e0152\"],[0.1,\"#c51b7d\"],[0.2,\"#de77ae\"],[0.3,\"#f1b6da\"],[0.4,\"#fde0ef\"],[0.5,\"#f7f7f7\"],[0.6,\"#e6f5d0\"],[0.7,\"#b8e186\"],[0.8,\"#7fbc41\"],[0.9,\"#4d9221\"],[1,\"#276419\"]]},\"xaxis\":{\"gridcolor\":\"white\",\"linecolor\":\"white\",\"ticks\":\"\",\"title\":{\"standoff\":15},\"zerolinecolor\":\"white\",\"automargin\":true,\"zerolinewidth\":2},\"yaxis\":{\"gridcolor\":\"white\",\"linecolor\":\"white\",\"ticks\":\"\",\"title\":{\"standoff\":15},\"zerolinecolor\":\"white\",\"automargin\":true,\"zerolinewidth\":2},\"scene\":{\"xaxis\":{\"backgroundcolor\":\"#E5ECF6\",\"gridcolor\":\"white\",\"linecolor\":\"white\",\"showbackground\":true,\"ticks\":\"\",\"zerolinecolor\":\"white\",\"gridwidth\":2},\"yaxis\":{\"backgroundcolor\":\"#E5ECF6\",\"gridcolor\":\"white\",\"linecolor\":\"white\",\"showbackground\":true,\"ticks\":\"\",\"zerolinecolor\":\"white\",\"gridwidth\":2},\"zaxis\":{\"backgroundcolor\":\"#E5ECF6\",\"gridcolor\":\"white\",\"linecolor\":\"white\",\"showbackground\":true,\"ticks\":\"\",\"zerolinecolor\":\"white\",\"gridwidth\":2}},\"shapedefaults\":{\"line\":{\"color\":\"#2a3f5f\"}},\"annotationdefaults\":{\"arrowcolor\":\"#2a3f5f\",\"arrowhead\":0,\"arrowwidth\":1},\"geo\":{\"bgcolor\":\"white\",\"landcolor\":\"#E5ECF6\",\"subunitcolor\":\"white\",\"showland\":true,\"showlakes\":true,\"lakecolor\":\"white\"},\"title\":{\"x\":0.05},\"mapbox\":{\"style\":\"light\"}}}},                        {\"responsive\": true}                    ).then(function(){\n",
       "                            \n",
       "var gd = document.getElementById('2ef8caa3-f1e8-47fe-b23e-9cdeeac3f27e');\n",
       "var x = new MutationObserver(function (mutations, observer) {{\n",
       "        var display = window.getComputedStyle(gd).display;\n",
       "        if (!display || display === 'none') {{\n",
       "            console.log([gd, 'removed!']);\n",
       "            Plotly.purge(gd);\n",
       "            observer.disconnect();\n",
       "        }}\n",
       "}});\n",
       "\n",
       "// Listen for the removal of the full notebook cells\n",
       "var notebookContainer = gd.closest('#notebook-container');\n",
       "if (notebookContainer) {{\n",
       "    x.observe(notebookContainer, {childList: true});\n",
       "}}\n",
       "\n",
       "// Listen for the clearing of the current output cell\n",
       "var outputEl = gd.closest('.output');\n",
       "if (outputEl) {{\n",
       "    x.observe(outputEl, {childList: true});\n",
       "}}\n",
       "\n",
       "                        })                };                });            </script>        </div>"
      ]
     },
     "metadata": {},
     "output_type": "display_data"
    },
    {
     "name": "stdout",
     "output_type": "stream",
     "text": [
      "[+] total trials: 32\n"
     ]
    },
    {
     "data": {
      "text/html": [
       "<div>\n",
       "<style scoped>\n",
       "    .dataframe tbody tr th:only-of-type {\n",
       "        vertical-align: middle;\n",
       "    }\n",
       "\n",
       "    .dataframe tbody tr th {\n",
       "        vertical-align: top;\n",
       "    }\n",
       "\n",
       "    .dataframe thead th {\n",
       "        text-align: right;\n",
       "    }\n",
       "</style>\n",
       "<table border=\"1\" class=\"dataframe\">\n",
       "  <thead>\n",
       "    <tr style=\"text-align: right;\">\n",
       "      <th></th>\n",
       "      <th>number</th>\n",
       "      <th>values_0</th>\n",
       "      <th>values_1</th>\n",
       "      <th>params_inner_steps</th>\n",
       "      <th>params_lr</th>\n",
       "      <th>params_num_gibbs_draws_test</th>\n",
       "      <th>params_num_gibbs_draws_train</th>\n",
       "      <th>params_wd</th>\n",
       "      <th>state</th>\n",
       "      <th>values_sum</th>\n",
       "    </tr>\n",
       "  </thead>\n",
       "  <tbody>\n",
       "    <tr>\n",
       "      <th>6</th>\n",
       "      <td>6</td>\n",
       "      <td>0.357336</td>\n",
       "      <td>0.401709</td>\n",
       "      <td>5</td>\n",
       "      <td>0.247338</td>\n",
       "      <td>NaN</td>\n",
       "      <td>NaN</td>\n",
       "      <td>0.0008</td>\n",
       "      <td>COMPLETE</td>\n",
       "      <td>0.759045</td>\n",
       "    </tr>\n",
       "    <tr>\n",
       "      <th>11</th>\n",
       "      <td>11</td>\n",
       "      <td>0.347178</td>\n",
       "      <td>0.331084</td>\n",
       "      <td>3</td>\n",
       "      <td>0.059622</td>\n",
       "      <td>50.0</td>\n",
       "      <td>50.0</td>\n",
       "      <td>0.0007</td>\n",
       "      <td>COMPLETE</td>\n",
       "      <td>0.678262</td>\n",
       "    </tr>\n",
       "    <tr>\n",
       "      <th>30</th>\n",
       "      <td>30</td>\n",
       "      <td>0.344606</td>\n",
       "      <td>0.384615</td>\n",
       "      <td>5</td>\n",
       "      <td>0.031178</td>\n",
       "      <td>NaN</td>\n",
       "      <td>NaN</td>\n",
       "      <td>0.0010</td>\n",
       "      <td>COMPLETE</td>\n",
       "      <td>0.729221</td>\n",
       "    </tr>\n",
       "    <tr>\n",
       "      <th>21</th>\n",
       "      <td>21</td>\n",
       "      <td>0.344349</td>\n",
       "      <td>0.321188</td>\n",
       "      <td>5</td>\n",
       "      <td>0.013643</td>\n",
       "      <td>NaN</td>\n",
       "      <td>NaN</td>\n",
       "      <td>0.0009</td>\n",
       "      <td>COMPLETE</td>\n",
       "      <td>0.665536</td>\n",
       "    </tr>\n",
       "    <tr>\n",
       "      <th>25</th>\n",
       "      <td>25</td>\n",
       "      <td>0.336762</td>\n",
       "      <td>0.390913</td>\n",
       "      <td>5</td>\n",
       "      <td>0.012340</td>\n",
       "      <td>NaN</td>\n",
       "      <td>NaN</td>\n",
       "      <td>0.0010</td>\n",
       "      <td>COMPLETE</td>\n",
       "      <td>0.727675</td>\n",
       "    </tr>\n",
       "    <tr>\n",
       "      <th>23</th>\n",
       "      <td>23</td>\n",
       "      <td>0.334576</td>\n",
       "      <td>0.343230</td>\n",
       "      <td>5</td>\n",
       "      <td>0.015000</td>\n",
       "      <td>NaN</td>\n",
       "      <td>NaN</td>\n",
       "      <td>0.0009</td>\n",
       "      <td>COMPLETE</td>\n",
       "      <td>0.677806</td>\n",
       "    </tr>\n",
       "  </tbody>\n",
       "</table>\n",
       "</div>"
      ],
      "text/plain": [
       "    number  values_0  values_1  params_inner_steps  params_lr  \\\n",
       "6   6       0.357336  0.401709  5                   0.247338    \n",
       "11  11      0.347178  0.331084  3                   0.059622    \n",
       "30  30      0.344606  0.384615  5                   0.031178    \n",
       "21  21      0.344349  0.321188  5                   0.013643    \n",
       "25  25      0.336762  0.390913  5                   0.012340    \n",
       "23  23      0.334576  0.343230  5                   0.015000    \n",
       "\n",
       "    params_num_gibbs_draws_test  params_num_gibbs_draws_train  params_wd  \\\n",
       "6  NaN                          NaN                            0.0008      \n",
       "11  50.0                         50.0                          0.0007      \n",
       "30 NaN                          NaN                            0.0010      \n",
       "21 NaN                          NaN                            0.0009      \n",
       "25 NaN                          NaN                            0.0010      \n",
       "23 NaN                          NaN                            0.0009      \n",
       "\n",
       "       state  values_sum  \n",
       "6   COMPLETE  0.759045    \n",
       "11  COMPLETE  0.678262    \n",
       "30  COMPLETE  0.729221    \n",
       "21  COMPLETE  0.665536    \n",
       "25  COMPLETE  0.727675    \n",
       "23  COMPLETE  0.677806    "
      ]
     },
     "metadata": {},
     "output_type": "display_data"
    },
    {
     "data": {
      "text/html": [
       "<div>\n",
       "<style scoped>\n",
       "    .dataframe tbody tr th:only-of-type {\n",
       "        vertical-align: middle;\n",
       "    }\n",
       "\n",
       "    .dataframe tbody tr th {\n",
       "        vertical-align: top;\n",
       "    }\n",
       "\n",
       "    .dataframe thead th {\n",
       "        text-align: right;\n",
       "    }\n",
       "</style>\n",
       "<table border=\"1\" class=\"dataframe\">\n",
       "  <thead>\n",
       "    <tr style=\"text-align: right;\">\n",
       "      <th></th>\n",
       "      <th>number</th>\n",
       "      <th>values_0</th>\n",
       "      <th>values_1</th>\n",
       "      <th>params_inner_steps</th>\n",
       "      <th>params_lr</th>\n",
       "      <th>params_num_gibbs_draws_test</th>\n",
       "      <th>params_num_gibbs_draws_train</th>\n",
       "      <th>params_wd</th>\n",
       "      <th>state</th>\n",
       "      <th>values_sum</th>\n",
       "    </tr>\n",
       "  </thead>\n",
       "  <tbody>\n",
       "    <tr>\n",
       "      <th>6</th>\n",
       "      <td>6</td>\n",
       "      <td>0.357336</td>\n",
       "      <td>0.401709</td>\n",
       "      <td>5</td>\n",
       "      <td>0.247338</td>\n",
       "      <td>NaN</td>\n",
       "      <td>NaN</td>\n",
       "      <td>0.0008</td>\n",
       "      <td>COMPLETE</td>\n",
       "      <td>0.759045</td>\n",
       "    </tr>\n",
       "    <tr>\n",
       "      <th>26</th>\n",
       "      <td>26</td>\n",
       "      <td>0.295615</td>\n",
       "      <td>0.399010</td>\n",
       "      <td>5</td>\n",
       "      <td>0.010808</td>\n",
       "      <td>NaN</td>\n",
       "      <td>50.0</td>\n",
       "      <td>0.0010</td>\n",
       "      <td>COMPLETE</td>\n",
       "      <td>0.694626</td>\n",
       "    </tr>\n",
       "    <tr>\n",
       "      <th>25</th>\n",
       "      <td>25</td>\n",
       "      <td>0.336762</td>\n",
       "      <td>0.390913</td>\n",
       "      <td>5</td>\n",
       "      <td>0.012340</td>\n",
       "      <td>NaN</td>\n",
       "      <td>NaN</td>\n",
       "      <td>0.0010</td>\n",
       "      <td>COMPLETE</td>\n",
       "      <td>0.727675</td>\n",
       "    </tr>\n",
       "    <tr>\n",
       "      <th>30</th>\n",
       "      <td>30</td>\n",
       "      <td>0.344606</td>\n",
       "      <td>0.384615</td>\n",
       "      <td>5</td>\n",
       "      <td>0.031178</td>\n",
       "      <td>NaN</td>\n",
       "      <td>NaN</td>\n",
       "      <td>0.0010</td>\n",
       "      <td>COMPLETE</td>\n",
       "      <td>0.729221</td>\n",
       "    </tr>\n",
       "    <tr>\n",
       "      <th>29</th>\n",
       "      <td>29</td>\n",
       "      <td>0.325447</td>\n",
       "      <td>0.376968</td>\n",
       "      <td>5</td>\n",
       "      <td>0.033385</td>\n",
       "      <td>50.0</td>\n",
       "      <td>50.0</td>\n",
       "      <td>0.0010</td>\n",
       "      <td>COMPLETE</td>\n",
       "      <td>0.702415</td>\n",
       "    </tr>\n",
       "    <tr>\n",
       "      <th>10</th>\n",
       "      <td>10</td>\n",
       "      <td>0.301016</td>\n",
       "      <td>0.371120</td>\n",
       "      <td>1</td>\n",
       "      <td>0.356152</td>\n",
       "      <td>50.0</td>\n",
       "      <td>50.0</td>\n",
       "      <td>0.0006</td>\n",
       "      <td>COMPLETE</td>\n",
       "      <td>0.672136</td>\n",
       "    </tr>\n",
       "  </tbody>\n",
       "</table>\n",
       "</div>"
      ],
      "text/plain": [
       "    number  values_0  values_1  params_inner_steps  params_lr  \\\n",
       "6   6       0.357336  0.401709  5                   0.247338    \n",
       "26  26      0.295615  0.399010  5                   0.010808    \n",
       "25  25      0.336762  0.390913  5                   0.012340    \n",
       "30  30      0.344606  0.384615  5                   0.031178    \n",
       "29  29      0.325447  0.376968  5                   0.033385    \n",
       "10  10      0.301016  0.371120  1                   0.356152    \n",
       "\n",
       "    params_num_gibbs_draws_test  params_num_gibbs_draws_train  params_wd  \\\n",
       "6  NaN                          NaN                            0.0008      \n",
       "26 NaN                           50.0                          0.0010      \n",
       "25 NaN                          NaN                            0.0010      \n",
       "30 NaN                          NaN                            0.0010      \n",
       "29  50.0                         50.0                          0.0010      \n",
       "10  50.0                         50.0                          0.0006      \n",
       "\n",
       "       state  values_sum  \n",
       "6   COMPLETE  0.759045    \n",
       "26  COMPLETE  0.694626    \n",
       "25  COMPLETE  0.727675    \n",
       "30  COMPLETE  0.729221    \n",
       "29  COMPLETE  0.702415    \n",
       "10  COMPLETE  0.672136    "
      ]
     },
     "metadata": {},
     "output_type": "display_data"
    },
    {
     "data": {
      "text/html": [
       "<div>\n",
       "<style scoped>\n",
       "    .dataframe tbody tr th:only-of-type {\n",
       "        vertical-align: middle;\n",
       "    }\n",
       "\n",
       "    .dataframe tbody tr th {\n",
       "        vertical-align: top;\n",
       "    }\n",
       "\n",
       "    .dataframe thead th {\n",
       "        text-align: right;\n",
       "    }\n",
       "</style>\n",
       "<table border=\"1\" class=\"dataframe\">\n",
       "  <thead>\n",
       "    <tr style=\"text-align: right;\">\n",
       "      <th></th>\n",
       "      <th>number</th>\n",
       "      <th>values_0</th>\n",
       "      <th>values_1</th>\n",
       "      <th>params_inner_steps</th>\n",
       "      <th>params_lr</th>\n",
       "      <th>params_num_gibbs_draws_test</th>\n",
       "      <th>params_num_gibbs_draws_train</th>\n",
       "      <th>params_wd</th>\n",
       "      <th>state</th>\n",
       "      <th>values_sum</th>\n",
       "    </tr>\n",
       "  </thead>\n",
       "  <tbody>\n",
       "    <tr>\n",
       "      <th>4</th>\n",
       "      <td>4</td>\n",
       "      <td>0.149415</td>\n",
       "      <td>0.112011</td>\n",
       "      <td>3</td>\n",
       "      <td>9.933270</td>\n",
       "      <td>NaN</td>\n",
       "      <td>NaN</td>\n",
       "      <td>0.0005</td>\n",
       "      <td>COMPLETE</td>\n",
       "      <td>0.261426</td>\n",
       "    </tr>\n",
       "    <tr>\n",
       "      <th>31</th>\n",
       "      <td>31</td>\n",
       "      <td>0.227723</td>\n",
       "      <td>0.206478</td>\n",
       "      <td>5</td>\n",
       "      <td>0.228327</td>\n",
       "      <td>NaN</td>\n",
       "      <td>NaN</td>\n",
       "      <td>0.0010</td>\n",
       "      <td>COMPLETE</td>\n",
       "      <td>0.434201</td>\n",
       "    </tr>\n",
       "    <tr>\n",
       "      <th>15</th>\n",
       "      <td>15</td>\n",
       "      <td>0.204706</td>\n",
       "      <td>0.242465</td>\n",
       "      <td>1</td>\n",
       "      <td>3.115311</td>\n",
       "      <td>NaN</td>\n",
       "      <td>NaN</td>\n",
       "      <td>0.0007</td>\n",
       "      <td>COMPLETE</td>\n",
       "      <td>0.447171</td>\n",
       "    </tr>\n",
       "    <tr>\n",
       "      <th>8</th>\n",
       "      <td>8</td>\n",
       "      <td>0.206249</td>\n",
       "      <td>0.294197</td>\n",
       "      <td>1</td>\n",
       "      <td>2.975602</td>\n",
       "      <td>NaN</td>\n",
       "      <td>NaN</td>\n",
       "      <td>0.0010</td>\n",
       "      <td>COMPLETE</td>\n",
       "      <td>0.500446</td>\n",
       "    </tr>\n",
       "    <tr>\n",
       "      <th>14</th>\n",
       "      <td>14</td>\n",
       "      <td>0.241481</td>\n",
       "      <td>0.302294</td>\n",
       "      <td>1</td>\n",
       "      <td>1.273665</td>\n",
       "      <td>NaN</td>\n",
       "      <td>50.0</td>\n",
       "      <td>0.0007</td>\n",
       "      <td>COMPLETE</td>\n",
       "      <td>0.543775</td>\n",
       "    </tr>\n",
       "    <tr>\n",
       "      <th>18</th>\n",
       "      <td>18</td>\n",
       "      <td>0.293172</td>\n",
       "      <td>0.306793</td>\n",
       "      <td>1</td>\n",
       "      <td>0.109045</td>\n",
       "      <td>NaN</td>\n",
       "      <td>NaN</td>\n",
       "      <td>0.0008</td>\n",
       "      <td>COMPLETE</td>\n",
       "      <td>0.599965</td>\n",
       "    </tr>\n",
       "    <tr>\n",
       "      <th>9</th>\n",
       "      <td>9</td>\n",
       "      <td>0.285971</td>\n",
       "      <td>0.316689</td>\n",
       "      <td>1</td>\n",
       "      <td>0.356519</td>\n",
       "      <td>NaN</td>\n",
       "      <td>50.0</td>\n",
       "      <td>0.0006</td>\n",
       "      <td>COMPLETE</td>\n",
       "      <td>0.602661</td>\n",
       "    </tr>\n",
       "    <tr>\n",
       "      <th>3</th>\n",
       "      <td>3</td>\n",
       "      <td>0.315289</td>\n",
       "      <td>0.318938</td>\n",
       "      <td>3</td>\n",
       "      <td>0.622108</td>\n",
       "      <td>NaN</td>\n",
       "      <td>NaN</td>\n",
       "      <td>0.0006</td>\n",
       "      <td>COMPLETE</td>\n",
       "      <td>0.634227</td>\n",
       "    </tr>\n",
       "    <tr>\n",
       "      <th>1</th>\n",
       "      <td>1</td>\n",
       "      <td>0.310788</td>\n",
       "      <td>0.320738</td>\n",
       "      <td>3</td>\n",
       "      <td>0.130304</td>\n",
       "      <td>NaN</td>\n",
       "      <td>NaN</td>\n",
       "      <td>0.0008</td>\n",
       "      <td>COMPLETE</td>\n",
       "      <td>0.631526</td>\n",
       "    </tr>\n",
       "    <tr>\n",
       "      <th>21</th>\n",
       "      <td>21</td>\n",
       "      <td>0.344349</td>\n",
       "      <td>0.321188</td>\n",
       "      <td>5</td>\n",
       "      <td>0.013643</td>\n",
       "      <td>NaN</td>\n",
       "      <td>NaN</td>\n",
       "      <td>0.0009</td>\n",
       "      <td>COMPLETE</td>\n",
       "      <td>0.665536</td>\n",
       "    </tr>\n",
       "    <tr>\n",
       "      <th>13</th>\n",
       "      <td>13</td>\n",
       "      <td>0.295358</td>\n",
       "      <td>0.324336</td>\n",
       "      <td>1</td>\n",
       "      <td>0.137441</td>\n",
       "      <td>50.0</td>\n",
       "      <td>50.0</td>\n",
       "      <td>0.0007</td>\n",
       "      <td>COMPLETE</td>\n",
       "      <td>0.619695</td>\n",
       "    </tr>\n",
       "    <tr>\n",
       "      <th>28</th>\n",
       "      <td>28</td>\n",
       "      <td>0.323132</td>\n",
       "      <td>0.327485</td>\n",
       "      <td>5</td>\n",
       "      <td>0.013206</td>\n",
       "      <td>NaN</td>\n",
       "      <td>NaN</td>\n",
       "      <td>0.0010</td>\n",
       "      <td>COMPLETE</td>\n",
       "      <td>0.650618</td>\n",
       "    </tr>\n",
       "    <tr>\n",
       "      <th>20</th>\n",
       "      <td>20</td>\n",
       "      <td>0.322875</td>\n",
       "      <td>0.329285</td>\n",
       "      <td>3</td>\n",
       "      <td>0.013289</td>\n",
       "      <td>NaN</td>\n",
       "      <td>NaN</td>\n",
       "      <td>0.0007</td>\n",
       "      <td>COMPLETE</td>\n",
       "      <td>0.652160</td>\n",
       "    </tr>\n",
       "    <tr>\n",
       "      <th>12</th>\n",
       "      <td>12</td>\n",
       "      <td>0.236724</td>\n",
       "      <td>0.330634</td>\n",
       "      <td>5</td>\n",
       "      <td>0.982853</td>\n",
       "      <td>NaN</td>\n",
       "      <td>NaN</td>\n",
       "      <td>0.0008</td>\n",
       "      <td>COMPLETE</td>\n",
       "      <td>0.567358</td>\n",
       "    </tr>\n",
       "    <tr>\n",
       "      <th>11</th>\n",
       "      <td>11</td>\n",
       "      <td>0.347178</td>\n",
       "      <td>0.331084</td>\n",
       "      <td>3</td>\n",
       "      <td>0.059622</td>\n",
       "      <td>50.0</td>\n",
       "      <td>50.0</td>\n",
       "      <td>0.0007</td>\n",
       "      <td>COMPLETE</td>\n",
       "      <td>0.678262</td>\n",
       "    </tr>\n",
       "    <tr>\n",
       "      <th>22</th>\n",
       "      <td>22</td>\n",
       "      <td>0.332390</td>\n",
       "      <td>0.338282</td>\n",
       "      <td>5</td>\n",
       "      <td>0.012117</td>\n",
       "      <td>NaN</td>\n",
       "      <td>NaN</td>\n",
       "      <td>0.0009</td>\n",
       "      <td>COMPLETE</td>\n",
       "      <td>0.670672</td>\n",
       "    </tr>\n",
       "    <tr>\n",
       "      <th>17</th>\n",
       "      <td>17</td>\n",
       "      <td>0.315289</td>\n",
       "      <td>0.340081</td>\n",
       "      <td>5</td>\n",
       "      <td>0.012413</td>\n",
       "      <td>50.0</td>\n",
       "      <td>50.0</td>\n",
       "      <td>0.0008</td>\n",
       "      <td>COMPLETE</td>\n",
       "      <td>0.655370</td>\n",
       "    </tr>\n",
       "    <tr>\n",
       "      <th>23</th>\n",
       "      <td>23</td>\n",
       "      <td>0.334576</td>\n",
       "      <td>0.343230</td>\n",
       "      <td>5</td>\n",
       "      <td>0.015000</td>\n",
       "      <td>NaN</td>\n",
       "      <td>NaN</td>\n",
       "      <td>0.0009</td>\n",
       "      <td>COMPLETE</td>\n",
       "      <td>0.677806</td>\n",
       "    </tr>\n",
       "    <tr>\n",
       "      <th>16</th>\n",
       "      <td>16</td>\n",
       "      <td>0.327376</td>\n",
       "      <td>0.344579</td>\n",
       "      <td>1</td>\n",
       "      <td>0.714789</td>\n",
       "      <td>NaN</td>\n",
       "      <td>NaN</td>\n",
       "      <td>0.0007</td>\n",
       "      <td>COMPLETE</td>\n",
       "      <td>0.671955</td>\n",
       "    </tr>\n",
       "    <tr>\n",
       "      <th>35</th>\n",
       "      <td>35</td>\n",
       "      <td>0.297801</td>\n",
       "      <td>0.349978</td>\n",
       "      <td>3</td>\n",
       "      <td>0.177754</td>\n",
       "      <td>NaN</td>\n",
       "      <td>NaN</td>\n",
       "      <td>0.0005</td>\n",
       "      <td>COMPLETE</td>\n",
       "      <td>0.647779</td>\n",
       "    </tr>\n",
       "    <tr>\n",
       "      <th>7</th>\n",
       "      <td>7</td>\n",
       "      <td>0.316060</td>\n",
       "      <td>0.350877</td>\n",
       "      <td>3</td>\n",
       "      <td>0.093002</td>\n",
       "      <td>NaN</td>\n",
       "      <td>NaN</td>\n",
       "      <td>0.0006</td>\n",
       "      <td>COMPLETE</td>\n",
       "      <td>0.666937</td>\n",
       "    </tr>\n",
       "    <tr>\n",
       "      <th>19</th>\n",
       "      <td>19</td>\n",
       "      <td>0.279028</td>\n",
       "      <td>0.354476</td>\n",
       "      <td>1</td>\n",
       "      <td>0.030524</td>\n",
       "      <td>NaN</td>\n",
       "      <td>50.0</td>\n",
       "      <td>0.0008</td>\n",
       "      <td>COMPLETE</td>\n",
       "      <td>0.633504</td>\n",
       "    </tr>\n",
       "    <tr>\n",
       "      <th>0</th>\n",
       "      <td>0</td>\n",
       "      <td>0.334448</td>\n",
       "      <td>0.358525</td>\n",
       "      <td>5</td>\n",
       "      <td>0.042162</td>\n",
       "      <td>NaN</td>\n",
       "      <td>NaN</td>\n",
       "      <td>0.0009</td>\n",
       "      <td>COMPLETE</td>\n",
       "      <td>0.692972</td>\n",
       "    </tr>\n",
       "    <tr>\n",
       "      <th>24</th>\n",
       "      <td>24</td>\n",
       "      <td>0.305259</td>\n",
       "      <td>0.361673</td>\n",
       "      <td>5</td>\n",
       "      <td>0.011393</td>\n",
       "      <td>50.0</td>\n",
       "      <td>50.0</td>\n",
       "      <td>0.0009</td>\n",
       "      <td>COMPLETE</td>\n",
       "      <td>0.666933</td>\n",
       "    </tr>\n",
       "    <tr>\n",
       "      <th>27</th>\n",
       "      <td>27</td>\n",
       "      <td>0.315032</td>\n",
       "      <td>0.363023</td>\n",
       "      <td>5</td>\n",
       "      <td>0.017987</td>\n",
       "      <td>NaN</td>\n",
       "      <td>NaN</td>\n",
       "      <td>0.0010</td>\n",
       "      <td>COMPLETE</td>\n",
       "      <td>0.678054</td>\n",
       "    </tr>\n",
       "    <tr>\n",
       "      <th>10</th>\n",
       "      <td>10</td>\n",
       "      <td>0.301016</td>\n",
       "      <td>0.371120</td>\n",
       "      <td>1</td>\n",
       "      <td>0.356152</td>\n",
       "      <td>50.0</td>\n",
       "      <td>50.0</td>\n",
       "      <td>0.0006</td>\n",
       "      <td>COMPLETE</td>\n",
       "      <td>0.672136</td>\n",
       "    </tr>\n",
       "    <tr>\n",
       "      <th>29</th>\n",
       "      <td>29</td>\n",
       "      <td>0.325447</td>\n",
       "      <td>0.376968</td>\n",
       "      <td>5</td>\n",
       "      <td>0.033385</td>\n",
       "      <td>50.0</td>\n",
       "      <td>50.0</td>\n",
       "      <td>0.0010</td>\n",
       "      <td>COMPLETE</td>\n",
       "      <td>0.702415</td>\n",
       "    </tr>\n",
       "    <tr>\n",
       "      <th>30</th>\n",
       "      <td>30</td>\n",
       "      <td>0.344606</td>\n",
       "      <td>0.384615</td>\n",
       "      <td>5</td>\n",
       "      <td>0.031178</td>\n",
       "      <td>NaN</td>\n",
       "      <td>NaN</td>\n",
       "      <td>0.0010</td>\n",
       "      <td>COMPLETE</td>\n",
       "      <td>0.729221</td>\n",
       "    </tr>\n",
       "    <tr>\n",
       "      <th>25</th>\n",
       "      <td>25</td>\n",
       "      <td>0.336762</td>\n",
       "      <td>0.390913</td>\n",
       "      <td>5</td>\n",
       "      <td>0.012340</td>\n",
       "      <td>NaN</td>\n",
       "      <td>NaN</td>\n",
       "      <td>0.0010</td>\n",
       "      <td>COMPLETE</td>\n",
       "      <td>0.727675</td>\n",
       "    </tr>\n",
       "    <tr>\n",
       "      <th>26</th>\n",
       "      <td>26</td>\n",
       "      <td>0.295615</td>\n",
       "      <td>0.399010</td>\n",
       "      <td>5</td>\n",
       "      <td>0.010808</td>\n",
       "      <td>NaN</td>\n",
       "      <td>50.0</td>\n",
       "      <td>0.0010</td>\n",
       "      <td>COMPLETE</td>\n",
       "      <td>0.694626</td>\n",
       "    </tr>\n",
       "    <tr>\n",
       "      <th>6</th>\n",
       "      <td>6</td>\n",
       "      <td>0.357336</td>\n",
       "      <td>0.401709</td>\n",
       "      <td>5</td>\n",
       "      <td>0.247338</td>\n",
       "      <td>NaN</td>\n",
       "      <td>NaN</td>\n",
       "      <td>0.0008</td>\n",
       "      <td>COMPLETE</td>\n",
       "      <td>0.759045</td>\n",
       "    </tr>\n",
       "    <tr>\n",
       "      <th>2</th>\n",
       "      <td>2</td>\n",
       "      <td>NaN</td>\n",
       "      <td>NaN</td>\n",
       "      <td>3</td>\n",
       "      <td>7.483106</td>\n",
       "      <td>NaN</td>\n",
       "      <td>NaN</td>\n",
       "      <td>0.0006</td>\n",
       "      <td>FAIL</td>\n",
       "      <td>NaN</td>\n",
       "    </tr>\n",
       "    <tr>\n",
       "      <th>5</th>\n",
       "      <td>5</td>\n",
       "      <td>NaN</td>\n",
       "      <td>NaN</td>\n",
       "      <td>3</td>\n",
       "      <td>2.388722</td>\n",
       "      <td>NaN</td>\n",
       "      <td>NaN</td>\n",
       "      <td>0.0010</td>\n",
       "      <td>FAIL</td>\n",
       "      <td>NaN</td>\n",
       "    </tr>\n",
       "    <tr>\n",
       "      <th>32</th>\n",
       "      <td>32</td>\n",
       "      <td>NaN</td>\n",
       "      <td>NaN</td>\n",
       "      <td>5</td>\n",
       "      <td>0.041322</td>\n",
       "      <td>NaN</td>\n",
       "      <td>NaN</td>\n",
       "      <td>0.0009</td>\n",
       "      <td>RUNNING</td>\n",
       "      <td>NaN</td>\n",
       "    </tr>\n",
       "    <tr>\n",
       "      <th>33</th>\n",
       "      <td>33</td>\n",
       "      <td>NaN</td>\n",
       "      <td>NaN</td>\n",
       "      <td>5</td>\n",
       "      <td>0.052301</td>\n",
       "      <td>50.0</td>\n",
       "      <td>50.0</td>\n",
       "      <td>0.0010</td>\n",
       "      <td>RUNNING</td>\n",
       "      <td>NaN</td>\n",
       "    </tr>\n",
       "    <tr>\n",
       "      <th>34</th>\n",
       "      <td>34</td>\n",
       "      <td>NaN</td>\n",
       "      <td>NaN</td>\n",
       "      <td>5</td>\n",
       "      <td>0.048751</td>\n",
       "      <td>NaN</td>\n",
       "      <td>NaN</td>\n",
       "      <td>0.0010</td>\n",
       "      <td>RUNNING</td>\n",
       "      <td>NaN</td>\n",
       "    </tr>\n",
       "    <tr>\n",
       "      <th>36</th>\n",
       "      <td>36</td>\n",
       "      <td>NaN</td>\n",
       "      <td>NaN</td>\n",
       "      <td>3</td>\n",
       "      <td>0.238994</td>\n",
       "      <td>NaN</td>\n",
       "      <td>NaN</td>\n",
       "      <td>0.0005</td>\n",
       "      <td>RUNNING</td>\n",
       "      <td>NaN</td>\n",
       "    </tr>\n",
       "    <tr>\n",
       "      <th>37</th>\n",
       "      <td>37</td>\n",
       "      <td>NaN</td>\n",
       "      <td>NaN</td>\n",
       "      <td>3</td>\n",
       "      <td>0.214965</td>\n",
       "      <td>NaN</td>\n",
       "      <td>NaN</td>\n",
       "      <td>0.0005</td>\n",
       "      <td>RUNNING</td>\n",
       "      <td>NaN</td>\n",
       "    </tr>\n",
       "    <tr>\n",
       "      <th>38</th>\n",
       "      <td>38</td>\n",
       "      <td>NaN</td>\n",
       "      <td>NaN</td>\n",
       "      <td>3</td>\n",
       "      <td>0.248576</td>\n",
       "      <td>NaN</td>\n",
       "      <td>NaN</td>\n",
       "      <td>0.0005</td>\n",
       "      <td>RUNNING</td>\n",
       "      <td>NaN</td>\n",
       "    </tr>\n",
       "    <tr>\n",
       "      <th>39</th>\n",
       "      <td>39</td>\n",
       "      <td>NaN</td>\n",
       "      <td>NaN</td>\n",
       "      <td>3</td>\n",
       "      <td>0.002610</td>\n",
       "      <td>10.0</td>\n",
       "      <td>10.0</td>\n",
       "      <td>0.0005</td>\n",
       "      <td>RUNNING</td>\n",
       "      <td>NaN</td>\n",
       "    </tr>\n",
       "    <tr>\n",
       "      <th>40</th>\n",
       "      <td>40</td>\n",
       "      <td>NaN</td>\n",
       "      <td>NaN</td>\n",
       "      <td>3</td>\n",
       "      <td>0.002224</td>\n",
       "      <td>10.0</td>\n",
       "      <td>10.0</td>\n",
       "      <td>0.0005</td>\n",
       "      <td>RUNNING</td>\n",
       "      <td>NaN</td>\n",
       "    </tr>\n",
       "  </tbody>\n",
       "</table>\n",
       "</div>"
      ],
      "text/plain": [
       "    number  values_0  values_1  params_inner_steps  params_lr  \\\n",
       "4   4       0.149415  0.112011  3                   9.933270    \n",
       "31  31      0.227723  0.206478  5                   0.228327    \n",
       "15  15      0.204706  0.242465  1                   3.115311    \n",
       "8   8       0.206249  0.294197  1                   2.975602    \n",
       "14  14      0.241481  0.302294  1                   1.273665    \n",
       "18  18      0.293172  0.306793  1                   0.109045    \n",
       "9   9       0.285971  0.316689  1                   0.356519    \n",
       "3   3       0.315289  0.318938  3                   0.622108    \n",
       "1   1       0.310788  0.320738  3                   0.130304    \n",
       "21  21      0.344349  0.321188  5                   0.013643    \n",
       "13  13      0.295358  0.324336  1                   0.137441    \n",
       "28  28      0.323132  0.327485  5                   0.013206    \n",
       "20  20      0.322875  0.329285  3                   0.013289    \n",
       "12  12      0.236724  0.330634  5                   0.982853    \n",
       "11  11      0.347178  0.331084  3                   0.059622    \n",
       "22  22      0.332390  0.338282  5                   0.012117    \n",
       "17  17      0.315289  0.340081  5                   0.012413    \n",
       "23  23      0.334576  0.343230  5                   0.015000    \n",
       "16  16      0.327376  0.344579  1                   0.714789    \n",
       "35  35      0.297801  0.349978  3                   0.177754    \n",
       "7   7       0.316060  0.350877  3                   0.093002    \n",
       "19  19      0.279028  0.354476  1                   0.030524    \n",
       "0   0       0.334448  0.358525  5                   0.042162    \n",
       "24  24      0.305259  0.361673  5                   0.011393    \n",
       "27  27      0.315032  0.363023  5                   0.017987    \n",
       "10  10      0.301016  0.371120  1                   0.356152    \n",
       "29  29      0.325447  0.376968  5                   0.033385    \n",
       "30  30      0.344606  0.384615  5                   0.031178    \n",
       "25  25      0.336762  0.390913  5                   0.012340    \n",
       "26  26      0.295615  0.399010  5                   0.010808    \n",
       "6   6       0.357336  0.401709  5                   0.247338    \n",
       "2   2      NaN       NaN        3                   7.483106    \n",
       "5   5      NaN       NaN        3                   2.388722    \n",
       "32  32     NaN       NaN        5                   0.041322    \n",
       "33  33     NaN       NaN        5                   0.052301    \n",
       "34  34     NaN       NaN        5                   0.048751    \n",
       "36  36     NaN       NaN        3                   0.238994    \n",
       "37  37     NaN       NaN        3                   0.214965    \n",
       "38  38     NaN       NaN        3                   0.248576    \n",
       "39  39     NaN       NaN        3                   0.002610    \n",
       "40  40     NaN       NaN        3                   0.002224    \n",
       "\n",
       "    params_num_gibbs_draws_test  params_num_gibbs_draws_train  params_wd  \\\n",
       "4  NaN                          NaN                            0.0005      \n",
       "31 NaN                          NaN                            0.0010      \n",
       "15 NaN                          NaN                            0.0007      \n",
       "8  NaN                          NaN                            0.0010      \n",
       "14 NaN                           50.0                          0.0007      \n",
       "18 NaN                          NaN                            0.0008      \n",
       "9  NaN                           50.0                          0.0006      \n",
       "3  NaN                          NaN                            0.0006      \n",
       "1  NaN                          NaN                            0.0008      \n",
       "21 NaN                          NaN                            0.0009      \n",
       "13  50.0                         50.0                          0.0007      \n",
       "28 NaN                          NaN                            0.0010      \n",
       "20 NaN                          NaN                            0.0007      \n",
       "12 NaN                          NaN                            0.0008      \n",
       "11  50.0                         50.0                          0.0007      \n",
       "22 NaN                          NaN                            0.0009      \n",
       "17  50.0                         50.0                          0.0008      \n",
       "23 NaN                          NaN                            0.0009      \n",
       "16 NaN                          NaN                            0.0007      \n",
       "35 NaN                          NaN                            0.0005      \n",
       "7  NaN                          NaN                            0.0006      \n",
       "19 NaN                           50.0                          0.0008      \n",
       "0  NaN                          NaN                            0.0009      \n",
       "24  50.0                         50.0                          0.0009      \n",
       "27 NaN                          NaN                            0.0010      \n",
       "10  50.0                         50.0                          0.0006      \n",
       "29  50.0                         50.0                          0.0010      \n",
       "30 NaN                          NaN                            0.0010      \n",
       "25 NaN                          NaN                            0.0010      \n",
       "26 NaN                           50.0                          0.0010      \n",
       "6  NaN                          NaN                            0.0008      \n",
       "2  NaN                          NaN                            0.0006      \n",
       "5  NaN                          NaN                            0.0010      \n",
       "32 NaN                          NaN                            0.0009      \n",
       "33  50.0                         50.0                          0.0010      \n",
       "34 NaN                          NaN                            0.0010      \n",
       "36 NaN                          NaN                            0.0005      \n",
       "37 NaN                          NaN                            0.0005      \n",
       "38 NaN                          NaN                            0.0005      \n",
       "39  10.0                         10.0                          0.0005      \n",
       "40  10.0                         10.0                          0.0005      \n",
       "\n",
       "       state  values_sum  \n",
       "4   COMPLETE  0.261426    \n",
       "31  COMPLETE  0.434201    \n",
       "15  COMPLETE  0.447171    \n",
       "8   COMPLETE  0.500446    \n",
       "14  COMPLETE  0.543775    \n",
       "18  COMPLETE  0.599965    \n",
       "9   COMPLETE  0.602661    \n",
       "3   COMPLETE  0.634227    \n",
       "1   COMPLETE  0.631526    \n",
       "21  COMPLETE  0.665536    \n",
       "13  COMPLETE  0.619695    \n",
       "28  COMPLETE  0.650618    \n",
       "20  COMPLETE  0.652160    \n",
       "12  COMPLETE  0.567358    \n",
       "11  COMPLETE  0.678262    \n",
       "22  COMPLETE  0.670672    \n",
       "17  COMPLETE  0.655370    \n",
       "23  COMPLETE  0.677806    \n",
       "16  COMPLETE  0.671955    \n",
       "35  COMPLETE  0.647779    \n",
       "7   COMPLETE  0.666937    \n",
       "19  COMPLETE  0.633504    \n",
       "0   COMPLETE  0.692972    \n",
       "24  COMPLETE  0.666933    \n",
       "27  COMPLETE  0.678054    \n",
       "10  COMPLETE  0.672136    \n",
       "29  COMPLETE  0.702415    \n",
       "30  COMPLETE  0.729221    \n",
       "25  COMPLETE  0.727675    \n",
       "26  COMPLETE  0.694626    \n",
       "6   COMPLETE  0.759045    \n",
       "2   FAIL     NaN          \n",
       "5   FAIL     NaN          \n",
       "32  RUNNING  NaN          \n",
       "33  RUNNING  NaN          \n",
       "34  RUNNING  NaN          \n",
       "36  RUNNING  NaN          \n",
       "37  RUNNING  NaN          \n",
       "38  RUNNING  NaN          \n",
       "39  RUNNING  NaN          \n",
       "40  RUNNING  NaN          "
      ]
     },
     "metadata": {},
     "output_type": "display_data"
    }
   ],
   "source": [
    "pre = f\"copy_tune_2\"\n",
    "\n",
    "env = \"bmfl\"\n",
    "alpha = 0.1\n",
    "dataset = \"cifar10\"\n",
    "\n",
    "study_name = f\"env_{env}_seed_777_d_{dataset}_alpha_{alpha}_gdt_2\"\n",
    "\n",
    "\n",
    "def f():\n",
    "    print(f\"[+] pre: {pre}\")\n",
    "    print(f\"[+] Study: {study_name}\")\n",
    "\n",
    "    storage = f\"sqlite:///studys/{pre}/{study_name}.db\"\n",
    "    study = optuna.load_study(study_name=study_name, storage=storage)\n",
    "\n",
    "    def constraints_func(trial):\n",
    "        try:\n",
    "            if trial.params[\"num_gibbs_draws_train\"]:\n",
    "                return [0]\n",
    "            if trial.params[\"num_gibbs_draws_test\"]:\n",
    "                return [0]\n",
    "        except:\n",
    "            pass\n",
    "        return [1]\n",
    "\n",
    "    # constraints_func = None\n",
    "    display(optuna.visualization.plot_pareto_front(study, target_names=[\"best_test_acc\", \"best_ood_acc\"], constraints_func=constraints_func))\n",
    "\n",
    "    df = study.trials_dataframe()\n",
    "    df.drop(columns=[\"datetime_start\", \"datetime_complete\", \"duration\"], inplace=True)\n",
    "    df[\"values_sum\"] = df[\"values_0\"] + df[\"values_1\"]\n",
    "    # df[df.columns].sort_values(by=['values_sum','values_0','values_1'], ascending=[False,False,False]).head(10)\n",
    "    # df[df.columns].sort_values(by=['values_0','values_1'], ascending=[False,False]).drop_duplicates(subset=[\"values_0\", \"values_1\"], keep='last').head(10)\n",
    "    # df[df.columns].sort_values(by=['values_1','values_0'], ascending=[False,False]).drop_duplicates(subset=[\"values_0\", \"values_1\"], keep='first').head(10)\n",
    "    df_filtered_test = df[df.columns].sort_values(by=[\"values_0\", \"values_1\"], ascending=[False, False]).drop_duplicates(subset=[\"values_0\", \"values_1\"], keep=\"first\")\n",
    "    df_filtered_ood = df[df.columns].sort_values(by=[\"values_1\", \"values_0\"], ascending=[False, False]).drop_duplicates(subset=[\"values_0\", \"values_1\"], keep=\"first\")\n",
    "    print(f\"[+] total trials: {df_filtered_test.shape[0]}\")\n",
    "    display(df_filtered_test.head(6))\n",
    "    display(df_filtered_ood.head(6))\n",
    "    display(df[df.columns].sort_values(by=[\"values_1\", \"values_0\"]))\n",
    "\n",
    "\n",
    "f()"
   ]
  },
  {
   "cell_type": "code",
   "execution_count": 5,
   "metadata": {},
   "outputs": [],
   "source": [
    "storage = f\"sqlite:///studys/{pre}/{study_name}.db\"\n",
    "study = optuna.load_study(study_name=study_name, storage=storage)"
   ]
  },
  {
   "cell_type": "code",
   "execution_count": 6,
   "metadata": {},
   "outputs": [
    {
     "name": "stderr",
     "output_type": "stream",
     "text": [
      "/gallery_moma/junhyeog.yun/anaconda3/envs/gp-my/lib/python3.9/site-packages/optuna/visualization/_utils.py:69: UserWarning:\n",
      "\n",
      "`target` is specified, but `target_name` is the default value, 'Objective Value'.\n",
      "\n"
     ]
    },
    {
     "data": {
      "application/vnd.plotly.v1+json": {
       "config": {
        "plotlyServerURL": "https://plot.ly"
       },
       "data": [
        {
         "cliponaxis": false,
         "hovertemplate": [
          "inner_steps (IntDistribution): 0.024610656685385264<extra></extra>",
          "wd (FloatDistribution): 0.14743367963042517<extra></extra>",
          "lr (FloatDistribution): 0.8279556636841895<extra></extra>"
         ],
         "marker": {
          "color": "rgb(66,146,198)"
         },
         "orientation": "h",
         "text": [
          "0.02",
          "0.15",
          "0.83"
         ],
         "textposition": "outside",
         "type": "bar",
         "x": [
          0.024610656685385264,
          0.14743367963042517,
          0.8279556636841895
         ],
         "y": [
          "inner_steps",
          "wd",
          "lr"
         ]
        }
       ],
       "layout": {
        "showlegend": false,
        "template": {
         "data": {
          "bar": [
           {
            "error_x": {
             "color": "#2a3f5f"
            },
            "error_y": {
             "color": "#2a3f5f"
            },
            "marker": {
             "line": {
              "color": "#E5ECF6",
              "width": 0.5
             },
             "pattern": {
              "fillmode": "overlay",
              "size": 10,
              "solidity": 0.2
             }
            },
            "type": "bar"
           }
          ],
          "barpolar": [
           {
            "marker": {
             "line": {
              "color": "#E5ECF6",
              "width": 0.5
             },
             "pattern": {
              "fillmode": "overlay",
              "size": 10,
              "solidity": 0.2
             }
            },
            "type": "barpolar"
           }
          ],
          "carpet": [
           {
            "aaxis": {
             "endlinecolor": "#2a3f5f",
             "gridcolor": "white",
             "linecolor": "white",
             "minorgridcolor": "white",
             "startlinecolor": "#2a3f5f"
            },
            "baxis": {
             "endlinecolor": "#2a3f5f",
             "gridcolor": "white",
             "linecolor": "white",
             "minorgridcolor": "white",
             "startlinecolor": "#2a3f5f"
            },
            "type": "carpet"
           }
          ],
          "choropleth": [
           {
            "colorbar": {
             "outlinewidth": 0,
             "ticks": ""
            },
            "type": "choropleth"
           }
          ],
          "contour": [
           {
            "colorbar": {
             "outlinewidth": 0,
             "ticks": ""
            },
            "colorscale": [
             [
              0,
              "#0d0887"
             ],
             [
              0.1111111111111111,
              "#46039f"
             ],
             [
              0.2222222222222222,
              "#7201a8"
             ],
             [
              0.3333333333333333,
              "#9c179e"
             ],
             [
              0.4444444444444444,
              "#bd3786"
             ],
             [
              0.5555555555555556,
              "#d8576b"
             ],
             [
              0.6666666666666666,
              "#ed7953"
             ],
             [
              0.7777777777777778,
              "#fb9f3a"
             ],
             [
              0.8888888888888888,
              "#fdca26"
             ],
             [
              1,
              "#f0f921"
             ]
            ],
            "type": "contour"
           }
          ],
          "contourcarpet": [
           {
            "colorbar": {
             "outlinewidth": 0,
             "ticks": ""
            },
            "type": "contourcarpet"
           }
          ],
          "heatmap": [
           {
            "colorbar": {
             "outlinewidth": 0,
             "ticks": ""
            },
            "colorscale": [
             [
              0,
              "#0d0887"
             ],
             [
              0.1111111111111111,
              "#46039f"
             ],
             [
              0.2222222222222222,
              "#7201a8"
             ],
             [
              0.3333333333333333,
              "#9c179e"
             ],
             [
              0.4444444444444444,
              "#bd3786"
             ],
             [
              0.5555555555555556,
              "#d8576b"
             ],
             [
              0.6666666666666666,
              "#ed7953"
             ],
             [
              0.7777777777777778,
              "#fb9f3a"
             ],
             [
              0.8888888888888888,
              "#fdca26"
             ],
             [
              1,
              "#f0f921"
             ]
            ],
            "type": "heatmap"
           }
          ],
          "heatmapgl": [
           {
            "colorbar": {
             "outlinewidth": 0,
             "ticks": ""
            },
            "colorscale": [
             [
              0,
              "#0d0887"
             ],
             [
              0.1111111111111111,
              "#46039f"
             ],
             [
              0.2222222222222222,
              "#7201a8"
             ],
             [
              0.3333333333333333,
              "#9c179e"
             ],
             [
              0.4444444444444444,
              "#bd3786"
             ],
             [
              0.5555555555555556,
              "#d8576b"
             ],
             [
              0.6666666666666666,
              "#ed7953"
             ],
             [
              0.7777777777777778,
              "#fb9f3a"
             ],
             [
              0.8888888888888888,
              "#fdca26"
             ],
             [
              1,
              "#f0f921"
             ]
            ],
            "type": "heatmapgl"
           }
          ],
          "histogram": [
           {
            "marker": {
             "pattern": {
              "fillmode": "overlay",
              "size": 10,
              "solidity": 0.2
             }
            },
            "type": "histogram"
           }
          ],
          "histogram2d": [
           {
            "colorbar": {
             "outlinewidth": 0,
             "ticks": ""
            },
            "colorscale": [
             [
              0,
              "#0d0887"
             ],
             [
              0.1111111111111111,
              "#46039f"
             ],
             [
              0.2222222222222222,
              "#7201a8"
             ],
             [
              0.3333333333333333,
              "#9c179e"
             ],
             [
              0.4444444444444444,
              "#bd3786"
             ],
             [
              0.5555555555555556,
              "#d8576b"
             ],
             [
              0.6666666666666666,
              "#ed7953"
             ],
             [
              0.7777777777777778,
              "#fb9f3a"
             ],
             [
              0.8888888888888888,
              "#fdca26"
             ],
             [
              1,
              "#f0f921"
             ]
            ],
            "type": "histogram2d"
           }
          ],
          "histogram2dcontour": [
           {
            "colorbar": {
             "outlinewidth": 0,
             "ticks": ""
            },
            "colorscale": [
             [
              0,
              "#0d0887"
             ],
             [
              0.1111111111111111,
              "#46039f"
             ],
             [
              0.2222222222222222,
              "#7201a8"
             ],
             [
              0.3333333333333333,
              "#9c179e"
             ],
             [
              0.4444444444444444,
              "#bd3786"
             ],
             [
              0.5555555555555556,
              "#d8576b"
             ],
             [
              0.6666666666666666,
              "#ed7953"
             ],
             [
              0.7777777777777778,
              "#fb9f3a"
             ],
             [
              0.8888888888888888,
              "#fdca26"
             ],
             [
              1,
              "#f0f921"
             ]
            ],
            "type": "histogram2dcontour"
           }
          ],
          "mesh3d": [
           {
            "colorbar": {
             "outlinewidth": 0,
             "ticks": ""
            },
            "type": "mesh3d"
           }
          ],
          "parcoords": [
           {
            "line": {
             "colorbar": {
              "outlinewidth": 0,
              "ticks": ""
             }
            },
            "type": "parcoords"
           }
          ],
          "pie": [
           {
            "automargin": true,
            "type": "pie"
           }
          ],
          "scatter": [
           {
            "fillpattern": {
             "fillmode": "overlay",
             "size": 10,
             "solidity": 0.2
            },
            "type": "scatter"
           }
          ],
          "scatter3d": [
           {
            "line": {
             "colorbar": {
              "outlinewidth": 0,
              "ticks": ""
             }
            },
            "marker": {
             "colorbar": {
              "outlinewidth": 0,
              "ticks": ""
             }
            },
            "type": "scatter3d"
           }
          ],
          "scattercarpet": [
           {
            "marker": {
             "colorbar": {
              "outlinewidth": 0,
              "ticks": ""
             }
            },
            "type": "scattercarpet"
           }
          ],
          "scattergeo": [
           {
            "marker": {
             "colorbar": {
              "outlinewidth": 0,
              "ticks": ""
             }
            },
            "type": "scattergeo"
           }
          ],
          "scattergl": [
           {
            "marker": {
             "colorbar": {
              "outlinewidth": 0,
              "ticks": ""
             }
            },
            "type": "scattergl"
           }
          ],
          "scattermapbox": [
           {
            "marker": {
             "colorbar": {
              "outlinewidth": 0,
              "ticks": ""
             }
            },
            "type": "scattermapbox"
           }
          ],
          "scatterpolar": [
           {
            "marker": {
             "colorbar": {
              "outlinewidth": 0,
              "ticks": ""
             }
            },
            "type": "scatterpolar"
           }
          ],
          "scatterpolargl": [
           {
            "marker": {
             "colorbar": {
              "outlinewidth": 0,
              "ticks": ""
             }
            },
            "type": "scatterpolargl"
           }
          ],
          "scatterternary": [
           {
            "marker": {
             "colorbar": {
              "outlinewidth": 0,
              "ticks": ""
             }
            },
            "type": "scatterternary"
           }
          ],
          "surface": [
           {
            "colorbar": {
             "outlinewidth": 0,
             "ticks": ""
            },
            "colorscale": [
             [
              0,
              "#0d0887"
             ],
             [
              0.1111111111111111,
              "#46039f"
             ],
             [
              0.2222222222222222,
              "#7201a8"
             ],
             [
              0.3333333333333333,
              "#9c179e"
             ],
             [
              0.4444444444444444,
              "#bd3786"
             ],
             [
              0.5555555555555556,
              "#d8576b"
             ],
             [
              0.6666666666666666,
              "#ed7953"
             ],
             [
              0.7777777777777778,
              "#fb9f3a"
             ],
             [
              0.8888888888888888,
              "#fdca26"
             ],
             [
              1,
              "#f0f921"
             ]
            ],
            "type": "surface"
           }
          ],
          "table": [
           {
            "cells": {
             "fill": {
              "color": "#EBF0F8"
             },
             "line": {
              "color": "white"
             }
            },
            "header": {
             "fill": {
              "color": "#C8D4E3"
             },
             "line": {
              "color": "white"
             }
            },
            "type": "table"
           }
          ]
         },
         "layout": {
          "annotationdefaults": {
           "arrowcolor": "#2a3f5f",
           "arrowhead": 0,
           "arrowwidth": 1
          },
          "autotypenumbers": "strict",
          "coloraxis": {
           "colorbar": {
            "outlinewidth": 0,
            "ticks": ""
           }
          },
          "colorscale": {
           "diverging": [
            [
             0,
             "#8e0152"
            ],
            [
             0.1,
             "#c51b7d"
            ],
            [
             0.2,
             "#de77ae"
            ],
            [
             0.3,
             "#f1b6da"
            ],
            [
             0.4,
             "#fde0ef"
            ],
            [
             0.5,
             "#f7f7f7"
            ],
            [
             0.6,
             "#e6f5d0"
            ],
            [
             0.7,
             "#b8e186"
            ],
            [
             0.8,
             "#7fbc41"
            ],
            [
             0.9,
             "#4d9221"
            ],
            [
             1,
             "#276419"
            ]
           ],
           "sequential": [
            [
             0,
             "#0d0887"
            ],
            [
             0.1111111111111111,
             "#46039f"
            ],
            [
             0.2222222222222222,
             "#7201a8"
            ],
            [
             0.3333333333333333,
             "#9c179e"
            ],
            [
             0.4444444444444444,
             "#bd3786"
            ],
            [
             0.5555555555555556,
             "#d8576b"
            ],
            [
             0.6666666666666666,
             "#ed7953"
            ],
            [
             0.7777777777777778,
             "#fb9f3a"
            ],
            [
             0.8888888888888888,
             "#fdca26"
            ],
            [
             1,
             "#f0f921"
            ]
           ],
           "sequentialminus": [
            [
             0,
             "#0d0887"
            ],
            [
             0.1111111111111111,
             "#46039f"
            ],
            [
             0.2222222222222222,
             "#7201a8"
            ],
            [
             0.3333333333333333,
             "#9c179e"
            ],
            [
             0.4444444444444444,
             "#bd3786"
            ],
            [
             0.5555555555555556,
             "#d8576b"
            ],
            [
             0.6666666666666666,
             "#ed7953"
            ],
            [
             0.7777777777777778,
             "#fb9f3a"
            ],
            [
             0.8888888888888888,
             "#fdca26"
            ],
            [
             1,
             "#f0f921"
            ]
           ]
          },
          "colorway": [
           "#636efa",
           "#EF553B",
           "#00cc96",
           "#ab63fa",
           "#FFA15A",
           "#19d3f3",
           "#FF6692",
           "#B6E880",
           "#FF97FF",
           "#FECB52"
          ],
          "font": {
           "color": "#2a3f5f"
          },
          "geo": {
           "bgcolor": "white",
           "lakecolor": "white",
           "landcolor": "#E5ECF6",
           "showlakes": true,
           "showland": true,
           "subunitcolor": "white"
          },
          "hoverlabel": {
           "align": "left"
          },
          "hovermode": "closest",
          "mapbox": {
           "style": "light"
          },
          "paper_bgcolor": "white",
          "plot_bgcolor": "#E5ECF6",
          "polar": {
           "angularaxis": {
            "gridcolor": "white",
            "linecolor": "white",
            "ticks": ""
           },
           "bgcolor": "#E5ECF6",
           "radialaxis": {
            "gridcolor": "white",
            "linecolor": "white",
            "ticks": ""
           }
          },
          "scene": {
           "xaxis": {
            "backgroundcolor": "#E5ECF6",
            "gridcolor": "white",
            "gridwidth": 2,
            "linecolor": "white",
            "showbackground": true,
            "ticks": "",
            "zerolinecolor": "white"
           },
           "yaxis": {
            "backgroundcolor": "#E5ECF6",
            "gridcolor": "white",
            "gridwidth": 2,
            "linecolor": "white",
            "showbackground": true,
            "ticks": "",
            "zerolinecolor": "white"
           },
           "zaxis": {
            "backgroundcolor": "#E5ECF6",
            "gridcolor": "white",
            "gridwidth": 2,
            "linecolor": "white",
            "showbackground": true,
            "ticks": "",
            "zerolinecolor": "white"
           }
          },
          "shapedefaults": {
           "line": {
            "color": "#2a3f5f"
           }
          },
          "ternary": {
           "aaxis": {
            "gridcolor": "white",
            "linecolor": "white",
            "ticks": ""
           },
           "baxis": {
            "gridcolor": "white",
            "linecolor": "white",
            "ticks": ""
           },
           "bgcolor": "#E5ECF6",
           "caxis": {
            "gridcolor": "white",
            "linecolor": "white",
            "ticks": ""
           }
          },
          "title": {
           "x": 0.05
          },
          "xaxis": {
           "automargin": true,
           "gridcolor": "white",
           "linecolor": "white",
           "ticks": "",
           "title": {
            "standoff": 15
           },
           "zerolinecolor": "white",
           "zerolinewidth": 2
          },
          "yaxis": {
           "automargin": true,
           "gridcolor": "white",
           "linecolor": "white",
           "ticks": "",
           "title": {
            "standoff": 15
           },
           "zerolinecolor": "white",
           "zerolinewidth": 2
          }
         }
        },
        "title": {
         "text": "Hyperparameter Importances"
        },
        "xaxis": {
         "title": {
          "text": "Importance for Objective Value"
         }
        },
        "yaxis": {
         "title": {
          "text": "Hyperparameter"
         }
        }
       }
      },
      "text/html": [
       "<div>                            <div id=\"c8ce4b57-f665-47a6-8830-af34ec319c73\" class=\"plotly-graph-div\" style=\"height:525px; width:100%;\"></div>            <script type=\"text/javascript\">                require([\"plotly\"], function(Plotly) {                    window.PLOTLYENV=window.PLOTLYENV || {};                                    if (document.getElementById(\"c8ce4b57-f665-47a6-8830-af34ec319c73\")) {                    Plotly.newPlot(                        \"c8ce4b57-f665-47a6-8830-af34ec319c73\",                        [{\"cliponaxis\":false,\"hovertemplate\":[\"inner_steps (IntDistribution): 0.024610656685385264\\u003cextra\\u003e\\u003c\\u002fextra\\u003e\",\"wd (FloatDistribution): 0.14743367963042517\\u003cextra\\u003e\\u003c\\u002fextra\\u003e\",\"lr (FloatDistribution): 0.8279556636841895\\u003cextra\\u003e\\u003c\\u002fextra\\u003e\"],\"marker\":{\"color\":\"rgb(66,146,198)\"},\"orientation\":\"h\",\"text\":[\"0.02\",\"0.15\",\"0.83\"],\"textposition\":\"outside\",\"x\":[0.024610656685385264,0.14743367963042517,0.8279556636841895],\"y\":[\"inner_steps\",\"wd\",\"lr\"],\"type\":\"bar\"}],                        {\"showlegend\":false,\"title\":{\"text\":\"Hyperparameter Importances\"},\"xaxis\":{\"title\":{\"text\":\"Importance for Objective Value\"}},\"yaxis\":{\"title\":{\"text\":\"Hyperparameter\"}},\"template\":{\"data\":{\"histogram2dcontour\":[{\"type\":\"histogram2dcontour\",\"colorbar\":{\"outlinewidth\":0,\"ticks\":\"\"},\"colorscale\":[[0.0,\"#0d0887\"],[0.1111111111111111,\"#46039f\"],[0.2222222222222222,\"#7201a8\"],[0.3333333333333333,\"#9c179e\"],[0.4444444444444444,\"#bd3786\"],[0.5555555555555556,\"#d8576b\"],[0.6666666666666666,\"#ed7953\"],[0.7777777777777778,\"#fb9f3a\"],[0.8888888888888888,\"#fdca26\"],[1.0,\"#f0f921\"]]}],\"choropleth\":[{\"type\":\"choropleth\",\"colorbar\":{\"outlinewidth\":0,\"ticks\":\"\"}}],\"histogram2d\":[{\"type\":\"histogram2d\",\"colorbar\":{\"outlinewidth\":0,\"ticks\":\"\"},\"colorscale\":[[0.0,\"#0d0887\"],[0.1111111111111111,\"#46039f\"],[0.2222222222222222,\"#7201a8\"],[0.3333333333333333,\"#9c179e\"],[0.4444444444444444,\"#bd3786\"],[0.5555555555555556,\"#d8576b\"],[0.6666666666666666,\"#ed7953\"],[0.7777777777777778,\"#fb9f3a\"],[0.8888888888888888,\"#fdca26\"],[1.0,\"#f0f921\"]]}],\"heatmap\":[{\"type\":\"heatmap\",\"colorbar\":{\"outlinewidth\":0,\"ticks\":\"\"},\"colorscale\":[[0.0,\"#0d0887\"],[0.1111111111111111,\"#46039f\"],[0.2222222222222222,\"#7201a8\"],[0.3333333333333333,\"#9c179e\"],[0.4444444444444444,\"#bd3786\"],[0.5555555555555556,\"#d8576b\"],[0.6666666666666666,\"#ed7953\"],[0.7777777777777778,\"#fb9f3a\"],[0.8888888888888888,\"#fdca26\"],[1.0,\"#f0f921\"]]}],\"heatmapgl\":[{\"type\":\"heatmapgl\",\"colorbar\":{\"outlinewidth\":0,\"ticks\":\"\"},\"colorscale\":[[0.0,\"#0d0887\"],[0.1111111111111111,\"#46039f\"],[0.2222222222222222,\"#7201a8\"],[0.3333333333333333,\"#9c179e\"],[0.4444444444444444,\"#bd3786\"],[0.5555555555555556,\"#d8576b\"],[0.6666666666666666,\"#ed7953\"],[0.7777777777777778,\"#fb9f3a\"],[0.8888888888888888,\"#fdca26\"],[1.0,\"#f0f921\"]]}],\"contourcarpet\":[{\"type\":\"contourcarpet\",\"colorbar\":{\"outlinewidth\":0,\"ticks\":\"\"}}],\"contour\":[{\"type\":\"contour\",\"colorbar\":{\"outlinewidth\":0,\"ticks\":\"\"},\"colorscale\":[[0.0,\"#0d0887\"],[0.1111111111111111,\"#46039f\"],[0.2222222222222222,\"#7201a8\"],[0.3333333333333333,\"#9c179e\"],[0.4444444444444444,\"#bd3786\"],[0.5555555555555556,\"#d8576b\"],[0.6666666666666666,\"#ed7953\"],[0.7777777777777778,\"#fb9f3a\"],[0.8888888888888888,\"#fdca26\"],[1.0,\"#f0f921\"]]}],\"surface\":[{\"type\":\"surface\",\"colorbar\":{\"outlinewidth\":0,\"ticks\":\"\"},\"colorscale\":[[0.0,\"#0d0887\"],[0.1111111111111111,\"#46039f\"],[0.2222222222222222,\"#7201a8\"],[0.3333333333333333,\"#9c179e\"],[0.4444444444444444,\"#bd3786\"],[0.5555555555555556,\"#d8576b\"],[0.6666666666666666,\"#ed7953\"],[0.7777777777777778,\"#fb9f3a\"],[0.8888888888888888,\"#fdca26\"],[1.0,\"#f0f921\"]]}],\"mesh3d\":[{\"type\":\"mesh3d\",\"colorbar\":{\"outlinewidth\":0,\"ticks\":\"\"}}],\"scatter\":[{\"fillpattern\":{\"fillmode\":\"overlay\",\"size\":10,\"solidity\":0.2},\"type\":\"scatter\"}],\"parcoords\":[{\"type\":\"parcoords\",\"line\":{\"colorbar\":{\"outlinewidth\":0,\"ticks\":\"\"}}}],\"scatterpolargl\":[{\"type\":\"scatterpolargl\",\"marker\":{\"colorbar\":{\"outlinewidth\":0,\"ticks\":\"\"}}}],\"bar\":[{\"error_x\":{\"color\":\"#2a3f5f\"},\"error_y\":{\"color\":\"#2a3f5f\"},\"marker\":{\"line\":{\"color\":\"#E5ECF6\",\"width\":0.5},\"pattern\":{\"fillmode\":\"overlay\",\"size\":10,\"solidity\":0.2}},\"type\":\"bar\"}],\"scattergeo\":[{\"type\":\"scattergeo\",\"marker\":{\"colorbar\":{\"outlinewidth\":0,\"ticks\":\"\"}}}],\"scatterpolar\":[{\"type\":\"scatterpolar\",\"marker\":{\"colorbar\":{\"outlinewidth\":0,\"ticks\":\"\"}}}],\"histogram\":[{\"marker\":{\"pattern\":{\"fillmode\":\"overlay\",\"size\":10,\"solidity\":0.2}},\"type\":\"histogram\"}],\"scattergl\":[{\"type\":\"scattergl\",\"marker\":{\"colorbar\":{\"outlinewidth\":0,\"ticks\":\"\"}}}],\"scatter3d\":[{\"type\":\"scatter3d\",\"line\":{\"colorbar\":{\"outlinewidth\":0,\"ticks\":\"\"}},\"marker\":{\"colorbar\":{\"outlinewidth\":0,\"ticks\":\"\"}}}],\"scattermapbox\":[{\"type\":\"scattermapbox\",\"marker\":{\"colorbar\":{\"outlinewidth\":0,\"ticks\":\"\"}}}],\"scatterternary\":[{\"type\":\"scatterternary\",\"marker\":{\"colorbar\":{\"outlinewidth\":0,\"ticks\":\"\"}}}],\"scattercarpet\":[{\"type\":\"scattercarpet\",\"marker\":{\"colorbar\":{\"outlinewidth\":0,\"ticks\":\"\"}}}],\"carpet\":[{\"aaxis\":{\"endlinecolor\":\"#2a3f5f\",\"gridcolor\":\"white\",\"linecolor\":\"white\",\"minorgridcolor\":\"white\",\"startlinecolor\":\"#2a3f5f\"},\"baxis\":{\"endlinecolor\":\"#2a3f5f\",\"gridcolor\":\"white\",\"linecolor\":\"white\",\"minorgridcolor\":\"white\",\"startlinecolor\":\"#2a3f5f\"},\"type\":\"carpet\"}],\"table\":[{\"cells\":{\"fill\":{\"color\":\"#EBF0F8\"},\"line\":{\"color\":\"white\"}},\"header\":{\"fill\":{\"color\":\"#C8D4E3\"},\"line\":{\"color\":\"white\"}},\"type\":\"table\"}],\"barpolar\":[{\"marker\":{\"line\":{\"color\":\"#E5ECF6\",\"width\":0.5},\"pattern\":{\"fillmode\":\"overlay\",\"size\":10,\"solidity\":0.2}},\"type\":\"barpolar\"}],\"pie\":[{\"automargin\":true,\"type\":\"pie\"}]},\"layout\":{\"autotypenumbers\":\"strict\",\"colorway\":[\"#636efa\",\"#EF553B\",\"#00cc96\",\"#ab63fa\",\"#FFA15A\",\"#19d3f3\",\"#FF6692\",\"#B6E880\",\"#FF97FF\",\"#FECB52\"],\"font\":{\"color\":\"#2a3f5f\"},\"hovermode\":\"closest\",\"hoverlabel\":{\"align\":\"left\"},\"paper_bgcolor\":\"white\",\"plot_bgcolor\":\"#E5ECF6\",\"polar\":{\"bgcolor\":\"#E5ECF6\",\"angularaxis\":{\"gridcolor\":\"white\",\"linecolor\":\"white\",\"ticks\":\"\"},\"radialaxis\":{\"gridcolor\":\"white\",\"linecolor\":\"white\",\"ticks\":\"\"}},\"ternary\":{\"bgcolor\":\"#E5ECF6\",\"aaxis\":{\"gridcolor\":\"white\",\"linecolor\":\"white\",\"ticks\":\"\"},\"baxis\":{\"gridcolor\":\"white\",\"linecolor\":\"white\",\"ticks\":\"\"},\"caxis\":{\"gridcolor\":\"white\",\"linecolor\":\"white\",\"ticks\":\"\"}},\"coloraxis\":{\"colorbar\":{\"outlinewidth\":0,\"ticks\":\"\"}},\"colorscale\":{\"sequential\":[[0.0,\"#0d0887\"],[0.1111111111111111,\"#46039f\"],[0.2222222222222222,\"#7201a8\"],[0.3333333333333333,\"#9c179e\"],[0.4444444444444444,\"#bd3786\"],[0.5555555555555556,\"#d8576b\"],[0.6666666666666666,\"#ed7953\"],[0.7777777777777778,\"#fb9f3a\"],[0.8888888888888888,\"#fdca26\"],[1.0,\"#f0f921\"]],\"sequentialminus\":[[0.0,\"#0d0887\"],[0.1111111111111111,\"#46039f\"],[0.2222222222222222,\"#7201a8\"],[0.3333333333333333,\"#9c179e\"],[0.4444444444444444,\"#bd3786\"],[0.5555555555555556,\"#d8576b\"],[0.6666666666666666,\"#ed7953\"],[0.7777777777777778,\"#fb9f3a\"],[0.8888888888888888,\"#fdca26\"],[1.0,\"#f0f921\"]],\"diverging\":[[0,\"#8e0152\"],[0.1,\"#c51b7d\"],[0.2,\"#de77ae\"],[0.3,\"#f1b6da\"],[0.4,\"#fde0ef\"],[0.5,\"#f7f7f7\"],[0.6,\"#e6f5d0\"],[0.7,\"#b8e186\"],[0.8,\"#7fbc41\"],[0.9,\"#4d9221\"],[1,\"#276419\"]]},\"xaxis\":{\"gridcolor\":\"white\",\"linecolor\":\"white\",\"ticks\":\"\",\"title\":{\"standoff\":15},\"zerolinecolor\":\"white\",\"automargin\":true,\"zerolinewidth\":2},\"yaxis\":{\"gridcolor\":\"white\",\"linecolor\":\"white\",\"ticks\":\"\",\"title\":{\"standoff\":15},\"zerolinecolor\":\"white\",\"automargin\":true,\"zerolinewidth\":2},\"scene\":{\"xaxis\":{\"backgroundcolor\":\"#E5ECF6\",\"gridcolor\":\"white\",\"linecolor\":\"white\",\"showbackground\":true,\"ticks\":\"\",\"zerolinecolor\":\"white\",\"gridwidth\":2},\"yaxis\":{\"backgroundcolor\":\"#E5ECF6\",\"gridcolor\":\"white\",\"linecolor\":\"white\",\"showbackground\":true,\"ticks\":\"\",\"zerolinecolor\":\"white\",\"gridwidth\":2},\"zaxis\":{\"backgroundcolor\":\"#E5ECF6\",\"gridcolor\":\"white\",\"linecolor\":\"white\",\"showbackground\":true,\"ticks\":\"\",\"zerolinecolor\":\"white\",\"gridwidth\":2}},\"shapedefaults\":{\"line\":{\"color\":\"#2a3f5f\"}},\"annotationdefaults\":{\"arrowcolor\":\"#2a3f5f\",\"arrowhead\":0,\"arrowwidth\":1},\"geo\":{\"bgcolor\":\"white\",\"landcolor\":\"#E5ECF6\",\"subunitcolor\":\"white\",\"showland\":true,\"showlakes\":true,\"lakecolor\":\"white\"},\"title\":{\"x\":0.05},\"mapbox\":{\"style\":\"light\"}}}},                        {\"responsive\": true}                    ).then(function(){\n",
       "                            \n",
       "var gd = document.getElementById('c8ce4b57-f665-47a6-8830-af34ec319c73');\n",
       "var x = new MutationObserver(function (mutations, observer) {{\n",
       "        var display = window.getComputedStyle(gd).display;\n",
       "        if (!display || display === 'none') {{\n",
       "            console.log([gd, 'removed!']);\n",
       "            Plotly.purge(gd);\n",
       "            observer.disconnect();\n",
       "        }}\n",
       "}});\n",
       "\n",
       "// Listen for the removal of the full notebook cells\n",
       "var notebookContainer = gd.closest('#notebook-container');\n",
       "if (notebookContainer) {{\n",
       "    x.observe(notebookContainer, {childList: true});\n",
       "}}\n",
       "\n",
       "// Listen for the clearing of the current output cell\n",
       "var outputEl = gd.closest('.output');\n",
       "if (outputEl) {{\n",
       "    x.observe(outputEl, {childList: true});\n",
       "}}\n",
       "\n",
       "                        })                };                });            </script>        </div>"
      ]
     },
     "metadata": {},
     "output_type": "display_data"
    },
    {
     "name": "stderr",
     "output_type": "stream",
     "text": [
      "/gallery_moma/junhyeog.yun/anaconda3/envs/gp-my/lib/python3.9/site-packages/optuna/visualization/_utils.py:69: UserWarning:\n",
      "\n",
      "`target` is specified, but `target_name` is the default value, 'Objective Value'.\n",
      "\n"
     ]
    },
    {
     "data": {
      "application/vnd.plotly.v1+json": {
       "config": {
        "plotlyServerURL": "https://plot.ly"
       },
       "data": [
        {
         "cliponaxis": false,
         "hovertemplate": [
          "inner_steps (IntDistribution): 0.04419352096557565<extra></extra>",
          "wd (FloatDistribution): 0.18331554747889073<extra></extra>",
          "lr (FloatDistribution): 0.7724909315555337<extra></extra>"
         ],
         "marker": {
          "color": "rgb(66,146,198)"
         },
         "orientation": "h",
         "text": [
          "0.04",
          "0.18",
          "0.77"
         ],
         "textposition": "outside",
         "type": "bar",
         "x": [
          0.04419352096557565,
          0.18331554747889073,
          0.7724909315555337
         ],
         "y": [
          "inner_steps",
          "wd",
          "lr"
         ]
        }
       ],
       "layout": {
        "showlegend": false,
        "template": {
         "data": {
          "bar": [
           {
            "error_x": {
             "color": "#2a3f5f"
            },
            "error_y": {
             "color": "#2a3f5f"
            },
            "marker": {
             "line": {
              "color": "#E5ECF6",
              "width": 0.5
             },
             "pattern": {
              "fillmode": "overlay",
              "size": 10,
              "solidity": 0.2
             }
            },
            "type": "bar"
           }
          ],
          "barpolar": [
           {
            "marker": {
             "line": {
              "color": "#E5ECF6",
              "width": 0.5
             },
             "pattern": {
              "fillmode": "overlay",
              "size": 10,
              "solidity": 0.2
             }
            },
            "type": "barpolar"
           }
          ],
          "carpet": [
           {
            "aaxis": {
             "endlinecolor": "#2a3f5f",
             "gridcolor": "white",
             "linecolor": "white",
             "minorgridcolor": "white",
             "startlinecolor": "#2a3f5f"
            },
            "baxis": {
             "endlinecolor": "#2a3f5f",
             "gridcolor": "white",
             "linecolor": "white",
             "minorgridcolor": "white",
             "startlinecolor": "#2a3f5f"
            },
            "type": "carpet"
           }
          ],
          "choropleth": [
           {
            "colorbar": {
             "outlinewidth": 0,
             "ticks": ""
            },
            "type": "choropleth"
           }
          ],
          "contour": [
           {
            "colorbar": {
             "outlinewidth": 0,
             "ticks": ""
            },
            "colorscale": [
             [
              0,
              "#0d0887"
             ],
             [
              0.1111111111111111,
              "#46039f"
             ],
             [
              0.2222222222222222,
              "#7201a8"
             ],
             [
              0.3333333333333333,
              "#9c179e"
             ],
             [
              0.4444444444444444,
              "#bd3786"
             ],
             [
              0.5555555555555556,
              "#d8576b"
             ],
             [
              0.6666666666666666,
              "#ed7953"
             ],
             [
              0.7777777777777778,
              "#fb9f3a"
             ],
             [
              0.8888888888888888,
              "#fdca26"
             ],
             [
              1,
              "#f0f921"
             ]
            ],
            "type": "contour"
           }
          ],
          "contourcarpet": [
           {
            "colorbar": {
             "outlinewidth": 0,
             "ticks": ""
            },
            "type": "contourcarpet"
           }
          ],
          "heatmap": [
           {
            "colorbar": {
             "outlinewidth": 0,
             "ticks": ""
            },
            "colorscale": [
             [
              0,
              "#0d0887"
             ],
             [
              0.1111111111111111,
              "#46039f"
             ],
             [
              0.2222222222222222,
              "#7201a8"
             ],
             [
              0.3333333333333333,
              "#9c179e"
             ],
             [
              0.4444444444444444,
              "#bd3786"
             ],
             [
              0.5555555555555556,
              "#d8576b"
             ],
             [
              0.6666666666666666,
              "#ed7953"
             ],
             [
              0.7777777777777778,
              "#fb9f3a"
             ],
             [
              0.8888888888888888,
              "#fdca26"
             ],
             [
              1,
              "#f0f921"
             ]
            ],
            "type": "heatmap"
           }
          ],
          "heatmapgl": [
           {
            "colorbar": {
             "outlinewidth": 0,
             "ticks": ""
            },
            "colorscale": [
             [
              0,
              "#0d0887"
             ],
             [
              0.1111111111111111,
              "#46039f"
             ],
             [
              0.2222222222222222,
              "#7201a8"
             ],
             [
              0.3333333333333333,
              "#9c179e"
             ],
             [
              0.4444444444444444,
              "#bd3786"
             ],
             [
              0.5555555555555556,
              "#d8576b"
             ],
             [
              0.6666666666666666,
              "#ed7953"
             ],
             [
              0.7777777777777778,
              "#fb9f3a"
             ],
             [
              0.8888888888888888,
              "#fdca26"
             ],
             [
              1,
              "#f0f921"
             ]
            ],
            "type": "heatmapgl"
           }
          ],
          "histogram": [
           {
            "marker": {
             "pattern": {
              "fillmode": "overlay",
              "size": 10,
              "solidity": 0.2
             }
            },
            "type": "histogram"
           }
          ],
          "histogram2d": [
           {
            "colorbar": {
             "outlinewidth": 0,
             "ticks": ""
            },
            "colorscale": [
             [
              0,
              "#0d0887"
             ],
             [
              0.1111111111111111,
              "#46039f"
             ],
             [
              0.2222222222222222,
              "#7201a8"
             ],
             [
              0.3333333333333333,
              "#9c179e"
             ],
             [
              0.4444444444444444,
              "#bd3786"
             ],
             [
              0.5555555555555556,
              "#d8576b"
             ],
             [
              0.6666666666666666,
              "#ed7953"
             ],
             [
              0.7777777777777778,
              "#fb9f3a"
             ],
             [
              0.8888888888888888,
              "#fdca26"
             ],
             [
              1,
              "#f0f921"
             ]
            ],
            "type": "histogram2d"
           }
          ],
          "histogram2dcontour": [
           {
            "colorbar": {
             "outlinewidth": 0,
             "ticks": ""
            },
            "colorscale": [
             [
              0,
              "#0d0887"
             ],
             [
              0.1111111111111111,
              "#46039f"
             ],
             [
              0.2222222222222222,
              "#7201a8"
             ],
             [
              0.3333333333333333,
              "#9c179e"
             ],
             [
              0.4444444444444444,
              "#bd3786"
             ],
             [
              0.5555555555555556,
              "#d8576b"
             ],
             [
              0.6666666666666666,
              "#ed7953"
             ],
             [
              0.7777777777777778,
              "#fb9f3a"
             ],
             [
              0.8888888888888888,
              "#fdca26"
             ],
             [
              1,
              "#f0f921"
             ]
            ],
            "type": "histogram2dcontour"
           }
          ],
          "mesh3d": [
           {
            "colorbar": {
             "outlinewidth": 0,
             "ticks": ""
            },
            "type": "mesh3d"
           }
          ],
          "parcoords": [
           {
            "line": {
             "colorbar": {
              "outlinewidth": 0,
              "ticks": ""
             }
            },
            "type": "parcoords"
           }
          ],
          "pie": [
           {
            "automargin": true,
            "type": "pie"
           }
          ],
          "scatter": [
           {
            "fillpattern": {
             "fillmode": "overlay",
             "size": 10,
             "solidity": 0.2
            },
            "type": "scatter"
           }
          ],
          "scatter3d": [
           {
            "line": {
             "colorbar": {
              "outlinewidth": 0,
              "ticks": ""
             }
            },
            "marker": {
             "colorbar": {
              "outlinewidth": 0,
              "ticks": ""
             }
            },
            "type": "scatter3d"
           }
          ],
          "scattercarpet": [
           {
            "marker": {
             "colorbar": {
              "outlinewidth": 0,
              "ticks": ""
             }
            },
            "type": "scattercarpet"
           }
          ],
          "scattergeo": [
           {
            "marker": {
             "colorbar": {
              "outlinewidth": 0,
              "ticks": ""
             }
            },
            "type": "scattergeo"
           }
          ],
          "scattergl": [
           {
            "marker": {
             "colorbar": {
              "outlinewidth": 0,
              "ticks": ""
             }
            },
            "type": "scattergl"
           }
          ],
          "scattermapbox": [
           {
            "marker": {
             "colorbar": {
              "outlinewidth": 0,
              "ticks": ""
             }
            },
            "type": "scattermapbox"
           }
          ],
          "scatterpolar": [
           {
            "marker": {
             "colorbar": {
              "outlinewidth": 0,
              "ticks": ""
             }
            },
            "type": "scatterpolar"
           }
          ],
          "scatterpolargl": [
           {
            "marker": {
             "colorbar": {
              "outlinewidth": 0,
              "ticks": ""
             }
            },
            "type": "scatterpolargl"
           }
          ],
          "scatterternary": [
           {
            "marker": {
             "colorbar": {
              "outlinewidth": 0,
              "ticks": ""
             }
            },
            "type": "scatterternary"
           }
          ],
          "surface": [
           {
            "colorbar": {
             "outlinewidth": 0,
             "ticks": ""
            },
            "colorscale": [
             [
              0,
              "#0d0887"
             ],
             [
              0.1111111111111111,
              "#46039f"
             ],
             [
              0.2222222222222222,
              "#7201a8"
             ],
             [
              0.3333333333333333,
              "#9c179e"
             ],
             [
              0.4444444444444444,
              "#bd3786"
             ],
             [
              0.5555555555555556,
              "#d8576b"
             ],
             [
              0.6666666666666666,
              "#ed7953"
             ],
             [
              0.7777777777777778,
              "#fb9f3a"
             ],
             [
              0.8888888888888888,
              "#fdca26"
             ],
             [
              1,
              "#f0f921"
             ]
            ],
            "type": "surface"
           }
          ],
          "table": [
           {
            "cells": {
             "fill": {
              "color": "#EBF0F8"
             },
             "line": {
              "color": "white"
             }
            },
            "header": {
             "fill": {
              "color": "#C8D4E3"
             },
             "line": {
              "color": "white"
             }
            },
            "type": "table"
           }
          ]
         },
         "layout": {
          "annotationdefaults": {
           "arrowcolor": "#2a3f5f",
           "arrowhead": 0,
           "arrowwidth": 1
          },
          "autotypenumbers": "strict",
          "coloraxis": {
           "colorbar": {
            "outlinewidth": 0,
            "ticks": ""
           }
          },
          "colorscale": {
           "diverging": [
            [
             0,
             "#8e0152"
            ],
            [
             0.1,
             "#c51b7d"
            ],
            [
             0.2,
             "#de77ae"
            ],
            [
             0.3,
             "#f1b6da"
            ],
            [
             0.4,
             "#fde0ef"
            ],
            [
             0.5,
             "#f7f7f7"
            ],
            [
             0.6,
             "#e6f5d0"
            ],
            [
             0.7,
             "#b8e186"
            ],
            [
             0.8,
             "#7fbc41"
            ],
            [
             0.9,
             "#4d9221"
            ],
            [
             1,
             "#276419"
            ]
           ],
           "sequential": [
            [
             0,
             "#0d0887"
            ],
            [
             0.1111111111111111,
             "#46039f"
            ],
            [
             0.2222222222222222,
             "#7201a8"
            ],
            [
             0.3333333333333333,
             "#9c179e"
            ],
            [
             0.4444444444444444,
             "#bd3786"
            ],
            [
             0.5555555555555556,
             "#d8576b"
            ],
            [
             0.6666666666666666,
             "#ed7953"
            ],
            [
             0.7777777777777778,
             "#fb9f3a"
            ],
            [
             0.8888888888888888,
             "#fdca26"
            ],
            [
             1,
             "#f0f921"
            ]
           ],
           "sequentialminus": [
            [
             0,
             "#0d0887"
            ],
            [
             0.1111111111111111,
             "#46039f"
            ],
            [
             0.2222222222222222,
             "#7201a8"
            ],
            [
             0.3333333333333333,
             "#9c179e"
            ],
            [
             0.4444444444444444,
             "#bd3786"
            ],
            [
             0.5555555555555556,
             "#d8576b"
            ],
            [
             0.6666666666666666,
             "#ed7953"
            ],
            [
             0.7777777777777778,
             "#fb9f3a"
            ],
            [
             0.8888888888888888,
             "#fdca26"
            ],
            [
             1,
             "#f0f921"
            ]
           ]
          },
          "colorway": [
           "#636efa",
           "#EF553B",
           "#00cc96",
           "#ab63fa",
           "#FFA15A",
           "#19d3f3",
           "#FF6692",
           "#B6E880",
           "#FF97FF",
           "#FECB52"
          ],
          "font": {
           "color": "#2a3f5f"
          },
          "geo": {
           "bgcolor": "white",
           "lakecolor": "white",
           "landcolor": "#E5ECF6",
           "showlakes": true,
           "showland": true,
           "subunitcolor": "white"
          },
          "hoverlabel": {
           "align": "left"
          },
          "hovermode": "closest",
          "mapbox": {
           "style": "light"
          },
          "paper_bgcolor": "white",
          "plot_bgcolor": "#E5ECF6",
          "polar": {
           "angularaxis": {
            "gridcolor": "white",
            "linecolor": "white",
            "ticks": ""
           },
           "bgcolor": "#E5ECF6",
           "radialaxis": {
            "gridcolor": "white",
            "linecolor": "white",
            "ticks": ""
           }
          },
          "scene": {
           "xaxis": {
            "backgroundcolor": "#E5ECF6",
            "gridcolor": "white",
            "gridwidth": 2,
            "linecolor": "white",
            "showbackground": true,
            "ticks": "",
            "zerolinecolor": "white"
           },
           "yaxis": {
            "backgroundcolor": "#E5ECF6",
            "gridcolor": "white",
            "gridwidth": 2,
            "linecolor": "white",
            "showbackground": true,
            "ticks": "",
            "zerolinecolor": "white"
           },
           "zaxis": {
            "backgroundcolor": "#E5ECF6",
            "gridcolor": "white",
            "gridwidth": 2,
            "linecolor": "white",
            "showbackground": true,
            "ticks": "",
            "zerolinecolor": "white"
           }
          },
          "shapedefaults": {
           "line": {
            "color": "#2a3f5f"
           }
          },
          "ternary": {
           "aaxis": {
            "gridcolor": "white",
            "linecolor": "white",
            "ticks": ""
           },
           "baxis": {
            "gridcolor": "white",
            "linecolor": "white",
            "ticks": ""
           },
           "bgcolor": "#E5ECF6",
           "caxis": {
            "gridcolor": "white",
            "linecolor": "white",
            "ticks": ""
           }
          },
          "title": {
           "x": 0.05
          },
          "xaxis": {
           "automargin": true,
           "gridcolor": "white",
           "linecolor": "white",
           "ticks": "",
           "title": {
            "standoff": 15
           },
           "zerolinecolor": "white",
           "zerolinewidth": 2
          },
          "yaxis": {
           "automargin": true,
           "gridcolor": "white",
           "linecolor": "white",
           "ticks": "",
           "title": {
            "standoff": 15
           },
           "zerolinecolor": "white",
           "zerolinewidth": 2
          }
         }
        },
        "title": {
         "text": "Hyperparameter Importances"
        },
        "xaxis": {
         "title": {
          "text": "Importance for Objective Value"
         }
        },
        "yaxis": {
         "title": {
          "text": "Hyperparameter"
         }
        }
       }
      },
      "text/html": [
       "<div>                            <div id=\"55632ae3-9a1f-4092-8122-9ccc9c87fd5a\" class=\"plotly-graph-div\" style=\"height:525px; width:100%;\"></div>            <script type=\"text/javascript\">                require([\"plotly\"], function(Plotly) {                    window.PLOTLYENV=window.PLOTLYENV || {};                                    if (document.getElementById(\"55632ae3-9a1f-4092-8122-9ccc9c87fd5a\")) {                    Plotly.newPlot(                        \"55632ae3-9a1f-4092-8122-9ccc9c87fd5a\",                        [{\"cliponaxis\":false,\"hovertemplate\":[\"inner_steps (IntDistribution): 0.04419352096557565\\u003cextra\\u003e\\u003c\\u002fextra\\u003e\",\"wd (FloatDistribution): 0.18331554747889073\\u003cextra\\u003e\\u003c\\u002fextra\\u003e\",\"lr (FloatDistribution): 0.7724909315555337\\u003cextra\\u003e\\u003c\\u002fextra\\u003e\"],\"marker\":{\"color\":\"rgb(66,146,198)\"},\"orientation\":\"h\",\"text\":[\"0.04\",\"0.18\",\"0.77\"],\"textposition\":\"outside\",\"x\":[0.04419352096557565,0.18331554747889073,0.7724909315555337],\"y\":[\"inner_steps\",\"wd\",\"lr\"],\"type\":\"bar\"}],                        {\"showlegend\":false,\"title\":{\"text\":\"Hyperparameter Importances\"},\"xaxis\":{\"title\":{\"text\":\"Importance for Objective Value\"}},\"yaxis\":{\"title\":{\"text\":\"Hyperparameter\"}},\"template\":{\"data\":{\"histogram2dcontour\":[{\"type\":\"histogram2dcontour\",\"colorbar\":{\"outlinewidth\":0,\"ticks\":\"\"},\"colorscale\":[[0.0,\"#0d0887\"],[0.1111111111111111,\"#46039f\"],[0.2222222222222222,\"#7201a8\"],[0.3333333333333333,\"#9c179e\"],[0.4444444444444444,\"#bd3786\"],[0.5555555555555556,\"#d8576b\"],[0.6666666666666666,\"#ed7953\"],[0.7777777777777778,\"#fb9f3a\"],[0.8888888888888888,\"#fdca26\"],[1.0,\"#f0f921\"]]}],\"choropleth\":[{\"type\":\"choropleth\",\"colorbar\":{\"outlinewidth\":0,\"ticks\":\"\"}}],\"histogram2d\":[{\"type\":\"histogram2d\",\"colorbar\":{\"outlinewidth\":0,\"ticks\":\"\"},\"colorscale\":[[0.0,\"#0d0887\"],[0.1111111111111111,\"#46039f\"],[0.2222222222222222,\"#7201a8\"],[0.3333333333333333,\"#9c179e\"],[0.4444444444444444,\"#bd3786\"],[0.5555555555555556,\"#d8576b\"],[0.6666666666666666,\"#ed7953\"],[0.7777777777777778,\"#fb9f3a\"],[0.8888888888888888,\"#fdca26\"],[1.0,\"#f0f921\"]]}],\"heatmap\":[{\"type\":\"heatmap\",\"colorbar\":{\"outlinewidth\":0,\"ticks\":\"\"},\"colorscale\":[[0.0,\"#0d0887\"],[0.1111111111111111,\"#46039f\"],[0.2222222222222222,\"#7201a8\"],[0.3333333333333333,\"#9c179e\"],[0.4444444444444444,\"#bd3786\"],[0.5555555555555556,\"#d8576b\"],[0.6666666666666666,\"#ed7953\"],[0.7777777777777778,\"#fb9f3a\"],[0.8888888888888888,\"#fdca26\"],[1.0,\"#f0f921\"]]}],\"heatmapgl\":[{\"type\":\"heatmapgl\",\"colorbar\":{\"outlinewidth\":0,\"ticks\":\"\"},\"colorscale\":[[0.0,\"#0d0887\"],[0.1111111111111111,\"#46039f\"],[0.2222222222222222,\"#7201a8\"],[0.3333333333333333,\"#9c179e\"],[0.4444444444444444,\"#bd3786\"],[0.5555555555555556,\"#d8576b\"],[0.6666666666666666,\"#ed7953\"],[0.7777777777777778,\"#fb9f3a\"],[0.8888888888888888,\"#fdca26\"],[1.0,\"#f0f921\"]]}],\"contourcarpet\":[{\"type\":\"contourcarpet\",\"colorbar\":{\"outlinewidth\":0,\"ticks\":\"\"}}],\"contour\":[{\"type\":\"contour\",\"colorbar\":{\"outlinewidth\":0,\"ticks\":\"\"},\"colorscale\":[[0.0,\"#0d0887\"],[0.1111111111111111,\"#46039f\"],[0.2222222222222222,\"#7201a8\"],[0.3333333333333333,\"#9c179e\"],[0.4444444444444444,\"#bd3786\"],[0.5555555555555556,\"#d8576b\"],[0.6666666666666666,\"#ed7953\"],[0.7777777777777778,\"#fb9f3a\"],[0.8888888888888888,\"#fdca26\"],[1.0,\"#f0f921\"]]}],\"surface\":[{\"type\":\"surface\",\"colorbar\":{\"outlinewidth\":0,\"ticks\":\"\"},\"colorscale\":[[0.0,\"#0d0887\"],[0.1111111111111111,\"#46039f\"],[0.2222222222222222,\"#7201a8\"],[0.3333333333333333,\"#9c179e\"],[0.4444444444444444,\"#bd3786\"],[0.5555555555555556,\"#d8576b\"],[0.6666666666666666,\"#ed7953\"],[0.7777777777777778,\"#fb9f3a\"],[0.8888888888888888,\"#fdca26\"],[1.0,\"#f0f921\"]]}],\"mesh3d\":[{\"type\":\"mesh3d\",\"colorbar\":{\"outlinewidth\":0,\"ticks\":\"\"}}],\"scatter\":[{\"fillpattern\":{\"fillmode\":\"overlay\",\"size\":10,\"solidity\":0.2},\"type\":\"scatter\"}],\"parcoords\":[{\"type\":\"parcoords\",\"line\":{\"colorbar\":{\"outlinewidth\":0,\"ticks\":\"\"}}}],\"scatterpolargl\":[{\"type\":\"scatterpolargl\",\"marker\":{\"colorbar\":{\"outlinewidth\":0,\"ticks\":\"\"}}}],\"bar\":[{\"error_x\":{\"color\":\"#2a3f5f\"},\"error_y\":{\"color\":\"#2a3f5f\"},\"marker\":{\"line\":{\"color\":\"#E5ECF6\",\"width\":0.5},\"pattern\":{\"fillmode\":\"overlay\",\"size\":10,\"solidity\":0.2}},\"type\":\"bar\"}],\"scattergeo\":[{\"type\":\"scattergeo\",\"marker\":{\"colorbar\":{\"outlinewidth\":0,\"ticks\":\"\"}}}],\"scatterpolar\":[{\"type\":\"scatterpolar\",\"marker\":{\"colorbar\":{\"outlinewidth\":0,\"ticks\":\"\"}}}],\"histogram\":[{\"marker\":{\"pattern\":{\"fillmode\":\"overlay\",\"size\":10,\"solidity\":0.2}},\"type\":\"histogram\"}],\"scattergl\":[{\"type\":\"scattergl\",\"marker\":{\"colorbar\":{\"outlinewidth\":0,\"ticks\":\"\"}}}],\"scatter3d\":[{\"type\":\"scatter3d\",\"line\":{\"colorbar\":{\"outlinewidth\":0,\"ticks\":\"\"}},\"marker\":{\"colorbar\":{\"outlinewidth\":0,\"ticks\":\"\"}}}],\"scattermapbox\":[{\"type\":\"scattermapbox\",\"marker\":{\"colorbar\":{\"outlinewidth\":0,\"ticks\":\"\"}}}],\"scatterternary\":[{\"type\":\"scatterternary\",\"marker\":{\"colorbar\":{\"outlinewidth\":0,\"ticks\":\"\"}}}],\"scattercarpet\":[{\"type\":\"scattercarpet\",\"marker\":{\"colorbar\":{\"outlinewidth\":0,\"ticks\":\"\"}}}],\"carpet\":[{\"aaxis\":{\"endlinecolor\":\"#2a3f5f\",\"gridcolor\":\"white\",\"linecolor\":\"white\",\"minorgridcolor\":\"white\",\"startlinecolor\":\"#2a3f5f\"},\"baxis\":{\"endlinecolor\":\"#2a3f5f\",\"gridcolor\":\"white\",\"linecolor\":\"white\",\"minorgridcolor\":\"white\",\"startlinecolor\":\"#2a3f5f\"},\"type\":\"carpet\"}],\"table\":[{\"cells\":{\"fill\":{\"color\":\"#EBF0F8\"},\"line\":{\"color\":\"white\"}},\"header\":{\"fill\":{\"color\":\"#C8D4E3\"},\"line\":{\"color\":\"white\"}},\"type\":\"table\"}],\"barpolar\":[{\"marker\":{\"line\":{\"color\":\"#E5ECF6\",\"width\":0.5},\"pattern\":{\"fillmode\":\"overlay\",\"size\":10,\"solidity\":0.2}},\"type\":\"barpolar\"}],\"pie\":[{\"automargin\":true,\"type\":\"pie\"}]},\"layout\":{\"autotypenumbers\":\"strict\",\"colorway\":[\"#636efa\",\"#EF553B\",\"#00cc96\",\"#ab63fa\",\"#FFA15A\",\"#19d3f3\",\"#FF6692\",\"#B6E880\",\"#FF97FF\",\"#FECB52\"],\"font\":{\"color\":\"#2a3f5f\"},\"hovermode\":\"closest\",\"hoverlabel\":{\"align\":\"left\"},\"paper_bgcolor\":\"white\",\"plot_bgcolor\":\"#E5ECF6\",\"polar\":{\"bgcolor\":\"#E5ECF6\",\"angularaxis\":{\"gridcolor\":\"white\",\"linecolor\":\"white\",\"ticks\":\"\"},\"radialaxis\":{\"gridcolor\":\"white\",\"linecolor\":\"white\",\"ticks\":\"\"}},\"ternary\":{\"bgcolor\":\"#E5ECF6\",\"aaxis\":{\"gridcolor\":\"white\",\"linecolor\":\"white\",\"ticks\":\"\"},\"baxis\":{\"gridcolor\":\"white\",\"linecolor\":\"white\",\"ticks\":\"\"},\"caxis\":{\"gridcolor\":\"white\",\"linecolor\":\"white\",\"ticks\":\"\"}},\"coloraxis\":{\"colorbar\":{\"outlinewidth\":0,\"ticks\":\"\"}},\"colorscale\":{\"sequential\":[[0.0,\"#0d0887\"],[0.1111111111111111,\"#46039f\"],[0.2222222222222222,\"#7201a8\"],[0.3333333333333333,\"#9c179e\"],[0.4444444444444444,\"#bd3786\"],[0.5555555555555556,\"#d8576b\"],[0.6666666666666666,\"#ed7953\"],[0.7777777777777778,\"#fb9f3a\"],[0.8888888888888888,\"#fdca26\"],[1.0,\"#f0f921\"]],\"sequentialminus\":[[0.0,\"#0d0887\"],[0.1111111111111111,\"#46039f\"],[0.2222222222222222,\"#7201a8\"],[0.3333333333333333,\"#9c179e\"],[0.4444444444444444,\"#bd3786\"],[0.5555555555555556,\"#d8576b\"],[0.6666666666666666,\"#ed7953\"],[0.7777777777777778,\"#fb9f3a\"],[0.8888888888888888,\"#fdca26\"],[1.0,\"#f0f921\"]],\"diverging\":[[0,\"#8e0152\"],[0.1,\"#c51b7d\"],[0.2,\"#de77ae\"],[0.3,\"#f1b6da\"],[0.4,\"#fde0ef\"],[0.5,\"#f7f7f7\"],[0.6,\"#e6f5d0\"],[0.7,\"#b8e186\"],[0.8,\"#7fbc41\"],[0.9,\"#4d9221\"],[1,\"#276419\"]]},\"xaxis\":{\"gridcolor\":\"white\",\"linecolor\":\"white\",\"ticks\":\"\",\"title\":{\"standoff\":15},\"zerolinecolor\":\"white\",\"automargin\":true,\"zerolinewidth\":2},\"yaxis\":{\"gridcolor\":\"white\",\"linecolor\":\"white\",\"ticks\":\"\",\"title\":{\"standoff\":15},\"zerolinecolor\":\"white\",\"automargin\":true,\"zerolinewidth\":2},\"scene\":{\"xaxis\":{\"backgroundcolor\":\"#E5ECF6\",\"gridcolor\":\"white\",\"linecolor\":\"white\",\"showbackground\":true,\"ticks\":\"\",\"zerolinecolor\":\"white\",\"gridwidth\":2},\"yaxis\":{\"backgroundcolor\":\"#E5ECF6\",\"gridcolor\":\"white\",\"linecolor\":\"white\",\"showbackground\":true,\"ticks\":\"\",\"zerolinecolor\":\"white\",\"gridwidth\":2},\"zaxis\":{\"backgroundcolor\":\"#E5ECF6\",\"gridcolor\":\"white\",\"linecolor\":\"white\",\"showbackground\":true,\"ticks\":\"\",\"zerolinecolor\":\"white\",\"gridwidth\":2}},\"shapedefaults\":{\"line\":{\"color\":\"#2a3f5f\"}},\"annotationdefaults\":{\"arrowcolor\":\"#2a3f5f\",\"arrowhead\":0,\"arrowwidth\":1},\"geo\":{\"bgcolor\":\"white\",\"landcolor\":\"#E5ECF6\",\"subunitcolor\":\"white\",\"showland\":true,\"showlakes\":true,\"lakecolor\":\"white\"},\"title\":{\"x\":0.05},\"mapbox\":{\"style\":\"light\"}}}},                        {\"responsive\": true}                    ).then(function(){\n",
       "                            \n",
       "var gd = document.getElementById('55632ae3-9a1f-4092-8122-9ccc9c87fd5a');\n",
       "var x = new MutationObserver(function (mutations, observer) {{\n",
       "        var display = window.getComputedStyle(gd).display;\n",
       "        if (!display || display === 'none') {{\n",
       "            console.log([gd, 'removed!']);\n",
       "            Plotly.purge(gd);\n",
       "            observer.disconnect();\n",
       "        }}\n",
       "}});\n",
       "\n",
       "// Listen for the removal of the full notebook cells\n",
       "var notebookContainer = gd.closest('#notebook-container');\n",
       "if (notebookContainer) {{\n",
       "    x.observe(notebookContainer, {childList: true});\n",
       "}}\n",
       "\n",
       "// Listen for the clearing of the current output cell\n",
       "var outputEl = gd.closest('.output');\n",
       "if (outputEl) {{\n",
       "    x.observe(outputEl, {childList: true});\n",
       "}}\n",
       "\n",
       "                        })                };                });            </script>        </div>"
      ]
     },
     "metadata": {},
     "output_type": "display_data"
    }
   ],
   "source": [
    "optuna.visualization.plot_param_importances(study, target=lambda t: t.values[0])\n",
    "optuna.visualization.plot_param_importances(study, target=lambda t: t.values[1])"
   ]
  },
  {
   "cell_type": "code",
   "execution_count": 7,
   "metadata": {},
   "outputs": [
    {
     "name": "stderr",
     "output_type": "stream",
     "text": [
      "/gallery_moma/junhyeog.yun/anaconda3/envs/gp-my/lib/python3.9/site-packages/optuna/visualization/_utils.py:69: UserWarning:\n",
      "\n",
      "`target` is specified, but `target_name` is the default value, 'Objective Value'.\n",
      "\n",
      "\u001b[33m[W 2023-08-26 09:02:46,210]\u001b[0m Param num_gibbs_draws_test unique value length is less than 2.\u001b[0m\n",
      "\u001b[33m[W 2023-08-26 09:02:46,211]\u001b[0m Param num_gibbs_draws_train unique value length is less than 2.\u001b[0m\n",
      "\u001b[33m[W 2023-08-26 09:02:46,213]\u001b[0m Param num_gibbs_draws_test unique value length is less than 2.\u001b[0m\n",
      "\u001b[33m[W 2023-08-26 09:02:46,214]\u001b[0m Param num_gibbs_draws_train unique value length is less than 2.\u001b[0m\n",
      "\u001b[33m[W 2023-08-26 09:02:46,215]\u001b[0m Param num_gibbs_draws_test unique value length is less than 2.\u001b[0m\n",
      "\u001b[33m[W 2023-08-26 09:02:46,217]\u001b[0m Param num_gibbs_draws_test unique value length is less than 2.\u001b[0m\n",
      "\u001b[33m[W 2023-08-26 09:02:46,218]\u001b[0m Param num_gibbs_draws_train unique value length is less than 2.\u001b[0m\n",
      "\u001b[33m[W 2023-08-26 09:02:46,218]\u001b[0m Param num_gibbs_draws_test unique value length is less than 2.\u001b[0m\n",
      "\u001b[33m[W 2023-08-26 09:02:46,219]\u001b[0m Param num_gibbs_draws_train unique value length is less than 2.\u001b[0m\n",
      "\u001b[33m[W 2023-08-26 09:02:46,220]\u001b[0m Param num_gibbs_draws_train unique value length is less than 2.\u001b[0m\n",
      "\u001b[33m[W 2023-08-26 09:02:46,221]\u001b[0m Param num_gibbs_draws_test unique value length is less than 2.\u001b[0m\n",
      "\u001b[33m[W 2023-08-26 09:02:46,222]\u001b[0m Param num_gibbs_draws_train unique value length is less than 2.\u001b[0m\n",
      "\u001b[33m[W 2023-08-26 09:02:46,225]\u001b[0m Param num_gibbs_draws_test unique value length is less than 2.\u001b[0m\n",
      "\u001b[33m[W 2023-08-26 09:02:46,226]\u001b[0m Param num_gibbs_draws_train unique value length is less than 2.\u001b[0m\n"
     ]
    }
   ],
   "source": [
    "optuna.visualization.plot_contour(study, target=lambda t: sum(t.values)).show(\"browser\")"
   ]
  }
 ],
 "metadata": {
  "kernelspec": {
   "display_name": "gp-my",
   "language": "python",
   "name": "python3"
  },
  "language_info": {
   "codemirror_mode": {
    "name": "ipython",
    "version": 3
   },
   "file_extension": ".py",
   "mimetype": "text/x-python",
   "name": "python",
   "nbconvert_exporter": "python",
   "pygments_lexer": "ipython3",
   "version": "3.9.17"
  },
  "orig_nbformat": 4
 },
 "nbformat": 4,
 "nbformat_minor": 2
}
